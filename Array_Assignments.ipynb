{
 "cells": [
  {
   "cell_type": "code",
   "execution_count": null,
   "id": "7b09af6e-f411-4ca3-aec4-0dc6f3acdb5a",
   "metadata": {},
   "outputs": [],
   "source": [
    "1. Given an array, check if it contains any duplicates or not. \n",
    "\n",
    "arr = [1, 2, 4, 2, 5, 9] \n",
    "\n",
    "Output = True"
   ]
  },
  {
   "cell_type": "code",
   "execution_count": 12,
   "id": "30249e69-f18f-45cd-9774-5c4cebb86f5f",
   "metadata": {},
   "outputs": [
    {
     "name": "stdout",
     "output_type": "stream",
     "text": [
      "True\n"
     ]
    }
   ],
   "source": [
    "def contains_duplicates(arr):\n",
    "    numbers = set()  # Create an empty set to store numbers\n",
    "    \n",
    "    for num in arr:  # Loop through each number in the array\n",
    "        if num in numbers:  # If the number is already in the set, it's a duplicate\n",
    "            return True\n",
    "        numbers.add(num)  # Otherwise, add the number to the set\n",
    "    \n",
    "    return False  # If no duplicates are found, return False\n",
    "\n",
    "\n",
    "arr = [1, 2, 4, 2, 5, 9]\n",
    "output = contains_duplicates(arr)\n",
    "print(output)  "
   ]
  },
  {
   "cell_type": "raw",
   "id": "b0c64571-0367-4fce-9fae-336dde4b6234",
   "metadata": {},
   "source": [
    "\n",
    "Explaination:-\n",
    "Create a Set: We start by creating an empty set named numbers to keep track of the numbers we encounter.\n",
    "Iterate Through Each Number: We examine each number in the array sequentially.\n",
    "Check for Duplicates: If a number is found in numbers, it indicates a duplicate, so we return True.\n",
    "Add Unique Numbers: If the number is not in the set, we add it to numbers.\n",
    "Complete the Check: If we go through the entire array without finding any duplicates, we return False."
   ]
  },
  {
   "cell_type": "code",
   "execution_count": null,
   "id": "cf8ced89-58c4-4cdd-aade-9a3ed63810ad",
   "metadata": {},
   "outputs": [],
   "source": [
    "2. Given an array and an integer k, rotate the array to the right by k steps. \n",
    "\n",
    "arr = [1, 2, 3, 4, 5, 6, 7] k = 3 \n",
    "\n",
    "Output = [5, 6, 7, 1, 2, 3, 4]"
   ]
  },
  {
   "cell_type": "code",
   "execution_count": 15,
   "id": "4d373646-1e99-4940-9208-d943fc1516d6",
   "metadata": {},
   "outputs": [
    {
     "name": "stdout",
     "output_type": "stream",
     "text": [
      "[5, 6, 7, 1, 2, 3, 4]\n"
     ]
    }
   ],
   "source": [
    "def rotate_array(arr, k):\n",
    "    # Find the length of the array\n",
    "    n = len(arr)\n",
    "    \n",
    "    # Normalize k to be within the bounds of the array length\n",
    "    k = k % n\n",
    "    \n",
    "    # Slice and concatenate to achieve rotation\n",
    "    rotated_arr = arr[-k:] + arr[:-k]\n",
    "    \n",
    "    return rotated_arr\n",
    "\n",
    "# Example array and number of steps to rotate\n",
    "arr = [1, 2, 3, 4, 5, 6, 7]\n",
    "k = 3\n",
    "output = rotate_array(arr, k)\n",
    "print(output)  "
   ]
  },
  {
   "cell_type": "raw",
   "id": "0604d085-1b4e-4a2f-99ba-3a4b3cc97ba3",
   "metadata": {},
   "source": [
    "\n",
    "Explaination\n",
    "Determine Length: Calculate the length of the array and store it in n.\n",
    "Adjust Steps: Use k % n to ensure k is within the valid range of the array length.\n",
    "Perform Rotation:\n",
    "arr[-k:] extracts the last k elements of the array.\n",
    "arr[:-k] selects the elements from the beginning up to the n-kth position.\n",
    "Concatenate these two segments to form the rotated array.\n",
    "Outcome: This method shifts the array [1, 2, 3, 4, 5, 6, 7] to the right by 3 positions, resulting in [5, 6, 7, 1, 2, 3, 4]."
   ]
  },
  {
   "cell_type": "code",
   "execution_count": null,
   "id": "f26d4335-a3c8-4c4e-bb5f-0c1ca31df695",
   "metadata": {},
   "outputs": [],
   "source": [
    "3. Reverse the given array in-place, means without using any extra data structure. \n",
    "\n",
    "arr = [2, 4, 5, 7, 9, 12] \n",
    "\n",
    "Output = [12, 9, 7, 5, 4, 2]"
   ]
  },
  {
   "cell_type": "code",
   "execution_count": 14,
   "id": "6bd395c5-1f1c-44d9-bdac-916b63dbab3c",
   "metadata": {},
   "outputs": [
    {
     "name": "stdout",
     "output_type": "stream",
     "text": [
      "[55, 5, 4, 10, 8, 7]\n"
     ]
    }
   ],
   "source": [
    "def reverse_array(arr):\n",
    "    start = 0\n",
    "    end = len(arr) - 1\n",
    "    \n",
    "    while start < end:\n",
    "        # Swap elements at the start and end indices\n",
    "        arr[start], arr[end] = arr[end], arr[start]\n",
    "        # Move the start pointer to the right and the end pointer to the left\n",
    "        start += 1\n",
    "        end -= 1\n",
    "\n",
    "# Example usage\n",
    "arr = [7, 8, 10, 4, 5, 55]\n",
    "reverse_array(arr)\n",
    "print(arr)  "
   ]
  },
  {
   "cell_type": "code",
   "execution_count": null,
   "id": "68210025-cd0d-4e2a-82f7-d553fcda6b90",
   "metadata": {},
   "outputs": [],
   "source": [
    "Explaination\n",
    "Initialize Pointers: Begin with two pointers: start at the first element and end at the last element of the array.\n",
    "Swap and Adjust:\n",
    "Exchange the elements at the start and end indices.\n",
    "Move the start pointer one step to the right and the end pointer one step to the left.\n",
    "Continue Until Center: Keep swapping elements until the start pointer meets or surpasses the end pointer.\n",
    "Outcome: The array is reversed in-place without requiring additional storage"
   ]
  },
  {
   "cell_type": "code",
   "execution_count": null,
   "id": "76d63df5-38d0-4b5e-a7d6-961f2e0ad3cc",
   "metadata": {},
   "outputs": [],
   "source": [
    "4. Given an array of integers, find the maximum element in an array\n",
    "\n",
    " arr = [10, 5, 20, 8, 15]\n",
    "\n",
    " Output = 20"
   ]
  },
  {
   "cell_type": "code",
   "execution_count": null,
   "id": "84abe190-cc94-4eb1-af44-28501d8c9fa5",
   "metadata": {},
   "outputs": [],
   "source": [
    "def find_max_element(array):\n",
    "    # Assume the first element is the largest initially\n",
    "    largest = array[0]\n",
    "    \n",
    "    # Traverse through each element in the array\n",
    "    for element in array:\n",
    "        # If the current element is greater than the largest, update largest\n",
    "        if element > largest:\n",
    "            largest = element\n",
    "            \n",
    "    return largest\n",
    "\n",
    "# Example array\n",
    "array = [10, 5, 20, 8, 15]\n",
    "largest_element = find_max_element(array)\n",
    "print(largest_element)  # Output: 20"
   ]
  },
  {
   "cell_type": "raw",
   "id": "d2e29eb1-9b2d-4fa0-9514-edab8ae0f4c3",
   "metadata": {},
   "source": [
    "Explaination\n",
    "Start with First Value: Assume the first element in the array is the largest.\n",
    "Examine All Elements: Review each element in the array one by one.\n",
    "Adjust Maximum: If you find an element that is larger than the current maximum, update the maximum value.\n",
    "Determine Final Max: After evaluating all elements, the maximum value will be the highest number in the array."
   ]
  },
  {
   "cell_type": "code",
   "execution_count": null,
   "id": "74def4f0-1599-4de6-bf5d-62daa4f762a4",
   "metadata": {},
   "outputs": [],
   "source": [
    "5. Given a sorted array, remove the duplicate element without using any extra data structure. \n",
    "\n",
    "arr = [1, 1, 2, 2, 2, 3, 3, 4, 4, 4, 5, 5] \n",
    "\n",
    "Output = [1, 2, 3, 4, 5]"
   ]
  },
  {
   "cell_type": "code",
   "execution_count": 18,
   "id": "e798f754-575f-4a1a-8d77-71a0fdbcf547",
   "metadata": {},
   "outputs": [
    {
     "name": "stdout",
     "output_type": "stream",
     "text": [
      "[7, 8, 2, 3, 4, 8]\n"
     ]
    }
   ],
   "source": [
    "def remove_duplicates(arr):\n",
    "    # If the array is empty, return it as is\n",
    "    if not arr:\n",
    "        return arr\n",
    "    \n",
    "    # Initialize the index for uniq elements\n",
    "    uniq_index = 0\n",
    "    \n",
    "    # checking from the second element\n",
    "    for current_index in range(1, len(arr)):\n",
    "        # If the current element is different from the last uniq element\n",
    "        if arr[current_index] != arr[uniq_index]:\n",
    "            # Move the uniq index forward\n",
    "            uniq_index += 1\n",
    "            # Update the next position with the current uniq element\n",
    "            arr[uniq_index] = arr[current_index]\n",
    "    \n",
    "    # Return the array with only uniq elements\n",
    "    return arr[:uniq_index + 1]\n",
    "\n",
    "\n",
    "arr = [7, 7, 7, 8, 8, 2, 2, 3, 3, 4, 4, 8, 8, 8, ]\n",
    "# Call the function and print the result\n",
    "result = remove_duplicates(arr)\n",
    "print(result)  "
   ]
  },
  {
   "cell_type": "code",
   "execution_count": null,
   "id": "062eb7fa-9755-4227-b092-6bbc1590e09c",
   "metadata": {},
   "outputs": [],
   "source": [
    "Explaination\n",
    "Check for Empty Array: If the array is empty, just return it as it is.\n",
    "Start with First Element: Assume the first element is unique.\n",
    "Look at Each Element:\n",
    "Begin with the second element.\n",
    "If this element is not the same as the last unique one, mark it as unique and move the marker to the next position.\n",
    "Get Unique Elements: Once you’ve looked at all elements, return the array up to the position of the last unique element."
   ]
  }
 ],
 "metadata": {
  "kernelspec": {
   "display_name": "Python 3 (ipykernel)",
   "language": "python",
   "name": "python3"
  },
  "language_info": {
   "codemirror_mode": {
    "name": "ipython",
    "version": 3
   },
   "file_extension": ".py",
   "mimetype": "text/x-python",
   "name": "python",
   "nbconvert_exporter": "python",
   "pygments_lexer": "ipython3",
   "version": "3.10.8"
  }
 },
 "nbformat": 4,
 "nbformat_minor": 5
}
