{
 "cells": [
  {
   "cell_type": "code",
   "execution_count": null,
   "id": "fc8f145f-fcb7-4195-a75f-06a8382b68e8",
   "metadata": {},
   "outputs": [],
   "source": [
    "Find time complexity of below code blocks :"
   ]
  },
  {
   "cell_type": "code",
   "execution_count": 3,
   "id": "7190eabe-4cbc-4282-ba71-cd309c263011",
   "metadata": {},
   "outputs": [
    {
     "ename": "SyntaxError",
     "evalue": "invalid non-printable character U+00A0 (1836214245.py, line 3)",
     "output_type": "error",
     "traceback": [
      "\u001b[0;36m  Cell \u001b[0;32mIn[3], line 3\u001b[0;36m\u001b[0m\n\u001b[0;31m    if len(arr) <= 1:\u001b[0m\n\u001b[0m    ^\u001b[0m\n\u001b[0;31mSyntaxError\u001b[0m\u001b[0;31m:\u001b[0m invalid non-printable character U+00A0\n"
     ]
    }
   ],
   "source": [
    "Problem 1 : def quicksort(arr):\n",
    "\n",
    "    if len(arr) <= 1:\n",
    "\n",
    "        return arr\n",
    "\n",
    "    pivot = arr[len(arr) // 2]\n",
    "\n",
    "    left = [x for x in arr if x < pivot]\n",
    "\n",
    "    middle = [x for x in arr if x == pivot]\n",
    "\n",
    "    right = [x for x in arr if x > pivot]\n",
    "\n",
    "    return quicksort(left) + middle + quicksort(right)"
   ]
  },
  {
   "cell_type": "raw",
   "id": "3a0087f9-c743-4c2f-bbdb-672d80561609",
   "metadata": {},
   "source": [
    "Solution:-\n",
    "\n",
    "if len(arr) <= 1:\n",
    "    return arr\n",
    "\n",
    "Sorting an array with 0 or 1 element is O(1).\n",
    "\n",
    "pivot = arr[len(arr) // 2]\n",
    "\n",
    "Choosing the pivot element is O(1).\n",
    "\n",
    "left = [x for x in arr if x < pivot]\n",
    "middle = [x for x in arr if x == pivot]\n",
    "right = [x for x in arr if x > pivot]\n",
    "\n",
    "Partitioning the array into left, middle, and right lists takes O(n) time.\n",
    "\n",
    "Recursive Calls:\n",
    "\n",
    "Average Case: When the array is split into approximately equal parts, the time complexity is \n",
    "O(nlogn).\n",
    "Worst Case: When the pivot leads to unbalanced partitions, the time complexity is O(n^2)."
   ]
  },
  {
   "cell_type": "code",
   "execution_count": null,
   "id": "8ad65776-2345-4151-920c-2b3c17766edc",
   "metadata": {},
   "outputs": [],
   "source": [
    "Problem 2 :\n",
    "\n",
    "\n",
    "def nested_loop_example(matrix):\n",
    "\n",
    "    rows, cols = len(matrix), len(matrix[0])\n",
    "\n",
    "    total = 0\n",
    "\n",
    "    for i in range(rows):\n",
    "\n",
    "        for j in range(cols):\n",
    "\n",
    "            total += matrix[i][j]\n",
    "\n",
    "    return total"
   ]
  },
  {
   "cell_type": "code",
   "execution_count": null,
   "id": "258a71a2-cdac-4de3-909c-dd03cd6f8de9",
   "metadata": {},
   "outputs": [],
   "source": [
    "Solution:-\n",
    "\n",
    "rows, cols = len(matrix), len(matrix[0])\n",
    "\n",
    "Calculating the number of rows (rows) and columns (cols) is completed in constant time, O(1).\n",
    "\n",
    "Nested Loops:\n",
    "    for i in range(rows):  --- Outer loop\n",
    "    for j in range(cols):  ---Inner loop\n",
    "        total += matrix[i][j]  ---- Constant-time operation\n",
    "        \n",
    "       \n",
    "The outer loop iterates rows times.    \n",
    "For each iteration of the outer loop, the inner loop iterates cols times.\n",
    "Thus, the total number of operations performed by the inner loop is rows×cols, \n",
    "which is O(m×n), \n",
    "where \n",
    "m is the number of rows and n is the number of columns.\n",
    "\n",
    "Since each iteration performs a constant-time operation (addition), the overall time complexity is O(m×n)."
   ]
  },
  {
   "cell_type": "code",
   "execution_count": null,
   "id": "217687d8-472e-4cf4-8b9a-3b89c06d447b",
   "metadata": {},
   "outputs": [],
   "source": [
    "Problem 3 :\n",
    "\n",
    "\n",
    "def example_function(arr):\n",
    "\n",
    "    result = 0\n",
    "\n",
    "    for element in arr:\n",
    "\n",
    "        result += element\n",
    "\n",
    "    return result"
   ]
  },
  {
   "cell_type": "code",
   "execution_count": null,
   "id": "e53dd7e3-ccc0-4910-adf4-18c57a7ca1a8",
   "metadata": {},
   "outputs": [],
   "source": [
    "Solution:- \n",
    "\n",
    "result = 0\n",
    "Setting up the result variable requires O(1) time.\n",
    "\n",
    "Loop:\n",
    "\n",
    "for element in arr:\n",
    "    result += element\n",
    "    \n",
    "The loop processes each item in the array arr.\n",
    "With n elements in the array, the loop executes n times.\n",
    "Each loop iteration involves a constant-time operation (addition), which is O(1).\n",
    "\n",
    "Overall Time Complexity:\n",
    "\n",
    "Since the loop executes n times and each iteration is O(1)\n",
    "\n",
    "The total time complexity is O(n)"
   ]
  },
  {
   "cell_type": "code",
   "execution_count": null,
   "id": "1de143ab-5037-4aa6-abdc-d1e69bb7eefb",
   "metadata": {},
   "outputs": [],
   "source": [
    "Problem 4 :\n",
    "\n",
    "\n",
    "def longest_increasing_subsequence(nums):\n",
    "\n",
    "    n = len(nums)\n",
    "\n",
    "    lis = [1] * n\n",
    "\n",
    "    for i in range(1, n):\n",
    "\n",
    "        for j in range(0, i):\n",
    "\n",
    "            if nums[i] > nums[j] and lis[i] < lis[j] + 1:\n",
    "\n",
    "                lis[i] = lis[j] + 1\n",
    "\n",
    "    return max(lis)\n",
    "\n",
    "\n",
    "\n"
   ]
  },
  {
   "cell_type": "code",
   "execution_count": null,
   "id": "aab50906-280c-4b6d-9950-1184603094b7",
   "metadata": {},
   "outputs": [],
   "source": [
    "Solution:-\n",
    "\n",
    "Nested Loops:\n",
    "\n",
    "for i in range(1, n):  # Outer loop\n",
    "    for j in range(0, i):  # Inner loop\n",
    "        if nums[i] > nums[j] and lis[i] < lis[j] + 1:\n",
    "            lis[i] = lis[j] + 1  # Update 'lis' value\n",
    "\n",
    "The outer loop executes \n",
    "O(n) times.\n",
    "The inner loop executes \n",
    "\n",
    "O(i) times for each iteration of the outer loop.\n",
    "Accumulating all inner loop executions results in a total of O(n^2) operations.\n",
    "\n",
    "return max(lis)  # Find the maximum value in 'lis'\n",
    "\n",
    "\n",
    "Finding the maximum value in the list lis requires O(n) time.\n",
    "\n",
    "Overall Time Complexity: The dominant factor is the nested loops, leading to a time complexity of O(n^2)"
   ]
  },
  {
   "cell_type": "code",
   "execution_count": null,
   "id": "b32016f4-cf8d-4c08-8b04-efd6213cd938",
   "metadata": {},
   "outputs": [],
   "source": [
    "Problem 5 :\n",
    "\n",
    "def mysterious_function(arr):\n",
    "\n",
    "    n = len(arr)\n",
    "\n",
    "    result = 0\n",
    "\n",
    "    for i in range(n):\n",
    "\n",
    "        for j in range(i, n):\n",
    "\n",
    "            result += arr[i] * arr[j]\n",
    "\n",
    "    return result"
   ]
  },
  {
   "cell_type": "code",
   "execution_count": null,
   "id": "d71052f7-44b5-43cb-87a2-d828f78cf154",
   "metadata": {},
   "outputs": [],
   "source": [
    "Solution:-\n",
    "\n",
    "n = len(arr)  # Determine the length of the array\n",
    "result = 0  # Set the result variable\n",
    "\n",
    "Both of these operations are completed in \n",
    "O(1) time.\n",
    "\n",
    "Nested Loops:\n",
    "\n",
    "for i in range(n):  # Outer loop\n",
    "for j in range(i, n):  # Inner loop\n",
    "        result += arr[i] * arr[j]  # Perform multiplication and addition\n",
    "\n",
    "The outer loop iterates n times.\n",
    "The inner loop, for each iteration of the outer loop, runs from i to n,\n",
    "which leads to n−i iterations.\n",
    "Adding up all the inner loop executions across the outer loop results in a total complexity of O(n^2).\n",
    "\n",
    "The final return operation is completed in O(1) time.\n",
    "\n",
    "Overall Time Complexity:\n",
    "\n",
    "The time complexity is dominated by the nested loops, resulting in O(n^2)."
   ]
  },
  {
   "cell_type": "code",
   "execution_count": null,
   "id": "6ed3d0cb-fa4f-42ba-99cb-325098c508f4",
   "metadata": {},
   "outputs": [],
   "source": [
    "Solve the following problems on recursion"
   ]
  },
  {
   "cell_type": "code",
   "execution_count": null,
   "id": "7d0e212d-d8f5-446e-b5e2-319504b0a88a",
   "metadata": {},
   "outputs": [],
   "source": [
    "Problem 6 : Sum of Digits\n",
    "\n",
    "\n",
    "Write a recursive function to calculate the sum of digits of a given positive integer.\n",
    "\n",
    "\n",
    "sum_of_digits(123) -> 6"
   ]
  },
  {
   "cell_type": "code",
   "execution_count": 27,
   "id": "1306bc12-42e7-46d1-85a5-39a24931eb30",
   "metadata": {},
   "outputs": [
    {
     "name": "stdout",
     "output_type": "stream",
     "text": [
      "6\n"
     ]
    }
   ],
   "source": [
    "def sum_of_digits(n):\n",
    "    # Base case: If the number is 0, there are no more digits to add, so return 0\n",
    "    if n == 0:\n",
    "        return 0\n",
    "    # Recursive case: Add the last digit to the total of the remaining digits\n",
    "    else:\n",
    "        # Extract the last digit of n\n",
    "        last_digit = n % 10\n",
    "        # Compute the sum of digits for the remaining part of the number\n",
    "        remaining_sum = sum_of_digits(n // 10)\n",
    "        # Return the sum of the last digit and the remaining sum\n",
    "        return last_digit + remaining_sum\n",
    "\n",
    "# Example usage:\n",
    "print(sum_of_digits(123))"
   ]
  },
  {
   "cell_type": "code",
   "execution_count": null,
   "id": "ac7b2970-af78-45cc-ba15-4478b129d53e",
   "metadata": {},
   "outputs": [],
   "source": [
    "Explaination:-\n",
    "\n",
    "Base Case: When n is 0, return 0 as there are no digits to add.\n",
    "Recursive Case:\n",
    "n % 10 extracts the last digit of n.\n",
    "n // 10 removes the last digit from n.\n",
    "The function calls itself with n // 10, adding the last digit to the result.\n",
    "\n",
    "Example: For sum_of_digits(123):\n",
    "123 % 10 gives 3, and 123 // 10 results in 12.\n",
    "sum_of_digits(12) computes 2 plus sum_of_digits(1).\n",
    "sum_of_digits(1) computes 1 plus sum_of_digits(0).\n",
    "Adding all digits together yields: 1 + 2 + 3 = 6."
   ]
  },
  {
   "cell_type": "code",
   "execution_count": null,
   "id": "d8f45c55-d4d7-4835-a23a-10ed0af8a21f",
   "metadata": {},
   "outputs": [],
   "source": [
    "Problem 7: Fibonacci Series\n",
    "\n",
    "\n",
    "Write a recursive function to generate the first n numbers of the Fibonacci series.\n",
    "\n",
    "\n",
    "fibonacci_series(6) -> [0, 1, 1, 2, 3, 5]"
   ]
  },
  {
   "cell_type": "code",
   "execution_count": 28,
   "id": "9b5cda1a-0804-4502-9143-6ad037518b6b",
   "metadata": {},
   "outputs": [
    {
     "name": "stdout",
     "output_type": "stream",
     "text": [
      "[0, 1, 1, 2, 3, 5]\n"
     ]
    }
   ],
   "source": [
    "def fibonacci_series(n):\n",
    "    # Base case: Return an empty list if n is 0, as there are no Fibonacci numbers to return\n",
    "    if n <= 0:\n",
    "        return []\n",
    "    # Base case: Return [0] if n is 1, representing the first Fibonacci number\n",
    "    elif n == 1:\n",
    "        return [0]\n",
    "    # Base case: Return [0, 1] if n is 2, representing the first two Fibonacci numbers\n",
    "    elif n == 2:\n",
    "        return [0, 1]\n",
    "    else:\n",
    "        # Recursive case: Retrieve the Fibonacci sequence for n-1\n",
    "        series = fibonacci_series(n - 1)\n",
    "        # Append the next Fibonacci number, which is the sum of the last two numbers in the current sequence\n",
    "        series.append(series[-1] + series[-2])\n",
    "        return series\n",
    "\n",
    "print(fibonacci_series(6))"
   ]
  },
  {
   "cell_type": "code",
   "execution_count": null,
   "id": "bb57c909-70cd-4344-acfa-dd914c1ee8ec",
   "metadata": {},
   "outputs": [],
   "source": [
    "Explanation:\n",
    "Base Cases:\n",
    "\n",
    "When n is 0, return an empty list as no Fibonacci numbers are needed.\n",
    "When n is 1, return [0] because it includes only the first Fibonacci number.\n",
    "When n is 2, return [0, 1] which includes the first two Fibonacci numbers.\n",
    "\n",
    "Recursive Case:\n",
    "\n",
    "Compute the Fibonacci sequence for n-1 (one less number).\n",
    "Add the next Fibonacci number to the sequence, which is the sum of the last two elements in the current list.\n",
    "Return the updated sequence."
   ]
  },
  {
   "cell_type": "code",
   "execution_count": null,
   "id": "9d12dea3-30d1-4195-8ea3-5000eafde16e",
   "metadata": {},
   "outputs": [],
   "source": [
    "Problem 8 : Subset Sum\n",
    "\n",
    "\n",
    "Given a set of positive integers and a target sum, write a recursive function to determine if there exists a subset \n",
    "of the integers that adds up to the target sum.\n",
    "\n",
    "\n",
    "subset_sum([3, 34, 4, 12, 5, 2], 9) -> True"
   ]
  },
  {
   "cell_type": "code",
   "execution_count": 29,
   "id": "22cea901-daf7-4fcf-87ef-bfe23db22476",
   "metadata": {},
   "outputs": [
    {
     "name": "stdout",
     "output_type": "stream",
     "text": [
      "True\n"
     ]
    }
   ],
   "source": [
    "def subset_sum(nums, target_sum):\n",
    "              # Base case 1: If target_sum is 0, it means we've found a subset that sums to 0, so return True\n",
    "    if target_sum == 0:\n",
    "        return True\n",
    "         #Base case 2: If there are no numbers left in the list and target_sum is not 0, return False\n",
    "          # This implies that no subset of the remaining numbers can sum to the target_sum\n",
    "    if not nums:\n",
    "        return False\n",
    "    \n",
    "    # Separate the first number from the rest of the list\n",
    "    current = nums[0]\n",
    "    rest = nums[1:]\n",
    "    \n",
    "    # Recursively explore two possibilities:\n",
    "       # 1. Check if the target_sum can be achieved from the rest of the numbers without using the current number\n",
    "    # 2. Check if the target_sum can be achieved from the rest of the numbers after including the current number\n",
    "    return (subset_sum(rest, target_sum) or \n",
    "            subset_sum(rest, target_sum - current))\n",
    "\n",
    "print(subset_sum([3, 34, 4, 12, 5, 2], 9))"
   ]
  },
  {
   "cell_type": "code",
   "execution_count": null,
   "id": "f89c2b8b-e741-4d06-81e4-43e2b8c4cba4",
   "metadata": {},
   "outputs": [],
   "source": [
    "Explanation:\n",
    "Base Case 1: If target_sum is 0, return True. This is because an empty subset can always achieve a sum of 0.\n",
    "\n",
    "Base Case 2: If the list nums is empty and target_sum is not 0, return False. This means that no subset of the remaining numbers can add up to the target_sum.\n",
    "\n",
    "Recursive Case:\n",
    "\n",
    "Current Element: Use the first element from the list (current).\n",
    "Remaining Elements: Consider the rest of the list after excluding the first element (rest).\n",
    "Subset Check:\n",
    "Recursively determine if the target_sum can be met without using the current number.\n",
    "Recursively determine if the target_sum can be achieved by including the current number (adjust target_sum by subtracting the current number).\n",
    "\n",
    "\n",
    "\n",
    "\n",
    "\n"
   ]
  },
  {
   "cell_type": "code",
   "execution_count": 30,
   "id": "17552444-8356-4769-b9ce-d57dcf5748b8",
   "metadata": {},
   "outputs": [
    {
     "ename": "SyntaxError",
     "evalue": "invalid syntax (1348855970.py, line 4)",
     "output_type": "error",
     "traceback": [
      "\u001b[0;36m  Cell \u001b[0;32mIn[30], line 4\u001b[0;36m\u001b[0m\n\u001b[0;31m    Given a non-empty string and a dictionary of words, write a recursive function to determine if the string can be\u001b[0m\n\u001b[0m          ^\u001b[0m\n\u001b[0;31mSyntaxError\u001b[0m\u001b[0;31m:\u001b[0m invalid syntax\n"
     ]
    }
   ],
   "source": [
    "#Problem 9: Word Break\n",
    "\n",
    "\n",
    "Given a non-empty string and a dictionary of words, write a recursive function to determine if the string can be \n",
    "segmented into a space-separated sequence of dictionary words.\n",
    "\n",
    "\n",
    "word_break( leetcode , [ leet , code ]) -> True"
   ]
  },
  {
   "cell_type": "code",
   "execution_count": 31,
   "id": "6ec9269b-7b16-4c2a-8fad-2b04aad558f5",
   "metadata": {},
   "outputs": [
    {
     "name": "stdout",
     "output_type": "stream",
     "text": [
      "True\n",
      "True\n"
     ]
    }
   ],
   "source": [
    "def wordBreak(wordList , word):\n",
    "  if word == \"\":\n",
    "    return True\n",
    "  else :\n",
    "    wordLen = len(word)\n",
    "    for i in range(1, wordLen+1):\n",
    "      if word[:i] in wordList and wordBreak(wordList, word[i:]):\n",
    "        return True\n",
    "    return False\n",
    "print(wordBreak([\"leet\",\"code\"], \"leetcode\"))\n",
    "print(wordBreak([\"you\",\"are\", \"not\", \"fool\", \"hate\", \"datascience\"], \"youarenotfool\"))"
   ]
  },
  {
   "cell_type": "code",
   "execution_count": null,
   "id": "175569c2-155b-4328-bb91-10413d540cd4",
   "metadata": {},
   "outputs": [],
   "source": [
    "Explaination:- \n",
    "The wordBreak function determines if a string can be broken down into a sequence of words from a specified list. \n",
    "It operates by Returning True if the string is empty.\n",
    "Examining all possible prefixes of the string.\n",
    "Verifying if a prefix exists in the list and if the substring remaining after removing the prefix can also be segmented.\n",
    "Returning True if a valid segmentation is identified; otherwise, returning False."
   ]
  },
  {
   "cell_type": "code",
   "execution_count": null,
   "id": "096dc94e-2b68-49ef-8531-2aa9cb2b4b22",
   "metadata": {},
   "outputs": [],
   "source": []
  },
  {
   "cell_type": "code",
   "execution_count": 10,
   "id": "c5c4b391-c2d3-4edf-a4fc-3e31647ccf60",
   "metadata": {},
   "outputs": [],
   "source": [
    "#10Problem 10 : N-Queens\n",
    "\n",
    "\n",
    "Implement a recursive function to solve the N Queens problem, where you have to place N queens on an N×N \n",
    "chessboard in such a way that no two queens threaten each other.\n",
    "n_queens(4)\n",
    "[\n",
    "\n",
    " [\".Q..\",\n",
    "\n",
    "  \"...Q\",\n",
    "\n",
    "  \"Q...\",\n",
    "\n",
    "  \"..Q.\"],\n",
    "\n",
    " [\"..Q.\",\n",
    "\n",
    "  \"Q...\",\n",
    "\n",
    "  \"...Q\",\n",
    "\n",
    "  \".Q..\"]\n",
    "\n",
    "]\n",
    "\n",
    "\n",
    "            "
   ]
  },
  {
   "cell_type": "code",
   "execution_count": 32,
   "id": "5cbf328d-26d3-40e3-9f2c-e82557a80c67",
   "metadata": {},
   "outputs": [
    {
     "name": "stdout",
     "output_type": "stream",
     "text": [
      "Q . . . . . . . \n",
      ". . . . . . Q . \n",
      ". . . . Q . . . \n",
      ". . . . . . . Q \n",
      ". Q . . . . . . \n",
      ". . . Q . . . . \n",
      ". . . . . Q . . \n",
      ". . Q . . . . . \n"
     ]
    }
   ],
   "source": [
    "def isSafeToPlaceQueen(board , row , col , n):\n",
    "\n",
    "  # Check in the left side\n",
    "  for i in range(col):\n",
    "    if board[row][i]==1 :\n",
    "      return False\n",
    "\n",
    "  #Check in the upper left diagonal\n",
    "  for i, j in zip(range(row,-1,-1),range(col,-1,-1)):\n",
    "    if board[i][j] ==1:\n",
    "      return False\n",
    "\n",
    "  #Check in the lower left diagonal\n",
    "  for i,j in zip(range(row,n,1 ), range(col, -1,-1)):\n",
    "    if board[i][j]==1:\n",
    "      return False\n",
    "\n",
    "  return True\n",
    "\n",
    "\n",
    "def solveNQ(board,n):\n",
    "\n",
    "  if not solveNQUtil(board,0,n):\n",
    "    print(\"Solution doesn't exist\")\n",
    "    return\n",
    "\n",
    "  printBoard(board,n)\n",
    "\n",
    "# Should return True if we are able to place all the queens\n",
    "def solveNQUtil(board , col , n):\n",
    "  if(col >=n): #Base condition\n",
    "    return True  # Means we have bee able to put queens in all the columns\n",
    "\n",
    "  # Check for all the rows\n",
    "  for row in range(n) :\n",
    "    if isSafeToPlaceQueen(board,row,col, n) :\n",
    "      board[row][col]= 1 #Set the queen\n",
    "\n",
    "      #Recursively try for the next columns\n",
    "      if solveNQUtil(board,col+1,n):\n",
    "        return True\n",
    "      #Back Tracking\n",
    "      board[row][col]= 0 # Queen can't be set here\n",
    "\n",
    "  return False #Won't be able to place the queen\n",
    "\n",
    "\n",
    "def printBoard(board,n):\n",
    "  for i in range(n):\n",
    "    for j in range(n):\n",
    "      if board[i][j]==1 :\n",
    "        print(\"Q\",end=\" \")\n",
    "      else :\n",
    "        print(\".\",end=\" \")\n",
    "    print()\n",
    "board = [[0,0,0,0],\n",
    "         [0,0,0,0],\n",
    "         [0,0,0,0],\n",
    "         [0,0,0,0]\n",
    "         ]\n",
    "board8 = [[0,0,0,0,0,0,0,0],\n",
    "          [0,0,0,0,0,0,0,0],\n",
    "          [0,0,0,0,0,0,0,0],\n",
    "          [0,0,0,0,0,0,0,0],\n",
    "          [0,0,0,0,0,0,0,0],\n",
    "          [0,0,0,0,0,0,0,0],\n",
    "          [0,0,0,0,0,0,0,0],\n",
    "          [0,0,0,0,0,0,0,0]\n",
    "          ]\n",
    "solveNQ(board8,8)"
   ]
  },
  {
   "cell_type": "code",
   "execution_count": null,
   "id": "45c96362-3ac4-4abf-8d90-f137544611c9",
   "metadata": {},
   "outputs": [],
   "source": []
  }
 ],
 "metadata": {
  "kernelspec": {
   "display_name": "Python 3 (ipykernel)",
   "language": "python",
   "name": "python3"
  },
  "language_info": {
   "codemirror_mode": {
    "name": "ipython",
    "version": 3
   },
   "file_extension": ".py",
   "mimetype": "text/x-python",
   "name": "python",
   "nbconvert_exporter": "python",
   "pygments_lexer": "ipython3",
   "version": "3.10.8"
  }
 },
 "nbformat": 4,
 "nbformat_minor": 5
}
