{
 "cells": [
  {
   "cell_type": "code",
   "execution_count": 1,
   "id": "4b3dfa24-412c-46bb-bbe4-82b1cd03a10c",
   "metadata": {},
   "outputs": [
    {
     "ename": "SyntaxError",
     "evalue": "invalid syntax (2423968062.py, line 1)",
     "output_type": "error",
     "traceback": [
      "\u001b[0;36m  Cell \u001b[0;32mIn[1], line 1\u001b[0;36m\u001b[0m\n\u001b[0;31m    Q.1 Can you explain the logic and working of the Tower of Hanoi algorithm by writing a Java program?\u001b[0m\n\u001b[0m     ^\u001b[0m\n\u001b[0;31mSyntaxError\u001b[0m\u001b[0;31m:\u001b[0m invalid syntax\n"
     ]
    }
   ],
   "source": [
    "Q.1 Can you explain the logic and working of the Tower of Hanoi algorithm by writing a Java program? \n",
    "\n",
    "How does the recursion work, and how are the movements of disks between rods accomplished?"
   ]
  },
  {
   "cell_type": "code",
   "execution_count": null,
   "id": "252e7006-a41c-4c11-9746-c3a663db58cb",
   "metadata": {},
   "outputs": [],
   "source": [
    "Explanation:\n",
    "Base Case:\n",
    "If there's only one disk (n == 1), move it directly from the source rod to the destination rod.\n",
    "Recursive Case:\n",
    "Move n-1 disks from the source rod to the auxiliary rod, using the destination rod as a helper.\n",
    "Move the remaining (largest) disk from the source rod to the destination rod.\n",
    "Move the n-1 disks from the auxiliary rod to the destination rod, using the source rod as a helper.\n",
    "The main() method:\n",
    "Sets the number of disks (n).\n",
    "Calls the towerOfHanoi() function to start the process, specifying the source rod ('A'), destination rod ('C'), and auxiliary rod ('B').\n",
    "Output:\n",
    "The program prints the steps required to solve the Tower of Hanoi puzzle for the given number of disks."
   ]
  },
  {
   "cell_type": "code",
   "execution_count": null,
   "id": "a4375d8c-f8d4-41f6-bf74-bebf88e91cc6",
   "metadata": {},
   "outputs": [],
   "source": [
    "Q.2 Given two strings word1 and word2, return the minimum number of operations required to convert word1 \n",
    "\n",
    "to word2.\n",
    "\n",
    "Example 1:\n",
    "\n",
    " Input: word1 = \"horse\", word2 = \"ros\"\n",
    "\n",
    " Output: 3\n",
    "\n",
    " Explanation: \n",
    "\n",
    " horse -> rorse (replace 'h' with 'r')\n",
    "\n",
    " rorse -> rose (remove 'r')\n",
    "\n",
    " rose -> ros (remove 'e')\n",
    "\n",
    "Example 2:\n",
    "\n",
    " Input: word1 = \"intention\", word2 = \"execution\"\n",
    "\n",
    " Output: 5\n",
    "\n",
    " Explanation: \n",
    "\n",
    " intention -> inention (remove 't')\n",
    "\n",
    " inention -> enention (replace 'i' with 'e')\n",
    "\n",
    " enention -> exention (replace 'n' with 'x')\n",
    "\n",
    " exention -> exection (replace 'n' with 'c')\n",
    "\n",
    " exection -> execution (insert 'u')"
   ]
  },
  {
   "cell_type": "code",
   "execution_count": null,
   "id": "56d3a780-ee58-4f82-aecf-defa5f7462c1",
   "metadata": {},
   "outputs": [],
   "source": [
    "def minDistance(word1, word2):\n",
    "    # Function to compute the minimum number of operations needed to transform word1 into word2\n",
    "    def recursive_min_dist(i, j):\n",
    "        # If word1 is empty, the number of operations needed is equal to the length of word2\n",
    "        if i == 0:\n",
    "            return j\n",
    "        # If word2 is empty, the number of operations needed is equal to the length of word1\n",
    "        if j == 0:\n",
    "            return i\n",
    "        \n",
    "        # If the characters at the current position match, move to the next characters\n",
    "        if word1[i - 1] == word2[j - 1]:\n",
    "            return recursive_min_dist(i - 1, j - 1)\n",
    "        \n",
    "        # Compute the cost for each type of operation:\n",
    "        # 1. Insertion: Add a character to word1 to match word2\n",
    "        insert_cost = recursive_min_dist(i, j - 1) + 1\n",
    "        # 2. Deletion: Remove a character from word1\n",
    "        delete_cost = recursive_min_dist(i - 1, j) + 1\n",
    "        # 3. Substitution: Replace a character in word1 with a character from word2\n",
    "        substitute_cost = recursive_min_dist(i - 1, j - 1) + 1\n",
    "        \n",
    "        # Return the smallest cost among the three operations\n",
    "        return min(insert_cost, delete_cost, substitute_cost)\n",
    "    \n",
    "    # Begin the recursion with the full lengths of both strings\n",
    "    return recursive_min_dist(len(word1), len(word2))\n",
    "\n",
    "# Example usage\n",
    "word1 = \"horse\"\n",
    "word2 = \"ros\"\n",
    "# Output: 3, indicating that three operations are needed to transform \"horse\" into \"ros\"\n",
    "print(minDistance(word1, word2))  \n",
    "\n",
    "word1 = \"intention\"\n",
    "word2 = \"execution\"\n",
    "# Output: 5, showing that five operations are required to change \"intention\" to \"execution\"\n",
    "print(minDistance(word1, word2))"
   ]
  },
  {
   "cell_type": "code",
   "execution_count": null,
   "id": "8f1da7a6-d9b6-44b1-a860-0e55fe6bff96",
   "metadata": {},
   "outputs": [],
   "source": [
    "Explanation:\n",
    "Function Definition:\n",
    "\n",
    "minDistance determines the number of operations needed to transform word1 into word2.\n",
    "Recursive Function (recursive_min_dist):\n",
    "\n",
    "Base Cases:\n",
    "\n",
    "If word1 is empty, the function returns the length of word2 (j), as we need to insert all characters of word2.\n",
    "If word2 is empty, it returns the length of word1 (i), since all characters of word1 must be deleted.\n",
    "Character Matching:\n",
    "\n",
    "If the characters at the current positions in both words are the same, the function proceeds with the next characters.\n",
    "Cost Calculation:\n",
    "\n",
    "Insertion: Adding a character to word1 to match word2 involves a cost of recursive_min_dist(i, j - 1) + 1.\n",
    "Deletion: Removing a character from word1 costs recursive_min_dist(i - 1, j) + 1.\n",
    "Substitution: Replacing a character in word1 with one from word2 has a cost of recursive_min_dist(i - 1, j - 1) + 1.\n",
    "Returning the Minimum Cost:\n",
    "\n",
    "The function returns the smallest cost calculated from insertion, deletion, and substitution.\n",
    "Example Usage:\n",
    "\n",
    "For converting \"horse\" to \"ros\", the minimum operations required are 3.\n",
    "For changing \"intention\" to \"execution\", 5 operations are needed."
   ]
  },
  {
   "cell_type": "code",
   "execution_count": null,
   "id": "794b0bf5-27fd-4988-97ea-29ad3e5cf300",
   "metadata": {},
   "outputs": [],
   "source": [
    "Q. 3 Print the max value of the array [ 13, 1, -3, 22, 5]"
   ]
  },
  {
   "cell_type": "code",
   "execution_count": null,
   "id": "a141a69d-f766-47f5-a3a4-5d1c536aefb6",
   "metadata": {},
   "outputs": [],
   "source": [
    "def find_max_recursive(arr, n):\n",
    "    # Base case: when the array has a single element, return that element\n",
    "    if n == 1:\n",
    "        return arr[0]\n",
    "    else:\n",
    "        # Recursive step: get the maximum of the remaining array\n",
    "        max_of_rest = find_max_recursive(arr, n - 1)\n",
    "        # Compare the last element with the maximum of the rest\n",
    "        return max(arr[n - 1], max_of_rest)\n",
    "\n",
    "# Define the array\n",
    "array = [13, 1, -3, 22, 5]\n",
    "\n",
    "# Find the maximum value using the recursive function\n",
    "max_value = find_max_recursive(array, len(array))\n",
    "\n",
    "# Print the maximum value\n",
    "print(max_value)"
   ]
  },
  {
   "cell_type": "code",
   "execution_count": null,
   "id": "97413bc2-116b-4fe9-9d1f-84c6efa39f73",
   "metadata": {},
   "outputs": [],
   "source": [
    "Explanation:\n",
    "\n",
    "Function Definition:\n",
    "\n",
    "find_max_recursive is designed to find the maximum value in an array using recursion. The function takes two parameters: arr, the array, and n, the number of elements.\n",
    "\n",
    "Base Case:\n",
    "\n",
    "If the array contains only one element (n == 1), return that element (arr[0]).\n",
    "\n",
    "Recursive Case:\n",
    "\n",
    "When the array has more than one element, the function recursively calls itself with the first n-1 elements to find the maximum value in that subset. The result is stored in max_of_rest.\n",
    "\n",
    "Comparison:\n",
    "\n",
    "Compare the last element of the current array (arr[n-1]) with max_of_rest. Return the larger of the two using the max function.\n",
    "\n",
    "Example Usage:\n",
    "\n",
    "For the array [13, 1, -3, 22, 5], calling find_max_recursive with the array and its length returns the maximum value, which is 22."
   ]
  },
  {
   "cell_type": "code",
   "execution_count": null,
   "id": "d5c7acf0-01f6-4a5a-932e-e61b190ccf7f",
   "metadata": {},
   "outputs": [],
   "source": [
    "Q.4 Find the sum of the values of the array [92, 23, 15, -20, 10]."
   ]
  },
  {
   "cell_type": "code",
   "execution_count": 1,
   "id": "c9c7c2f5-52e5-4452-86f2-5dd8c7701ab7",
   "metadata": {},
   "outputs": [
    {
     "name": "stdout",
     "output_type": "stream",
     "text": [
      "120\n"
     ]
    }
   ],
   "source": [
    "def recursive_sum(arr):\n",
    "    # Base case: When the array is empty (i.e., it has no elements), return 0.\n",
    "    # This serves as the stopping criterion for the recursive calls.\n",
    "    if len(arr) == 0:\n",
    "        return 0\n",
    "    \n",
    "    # Recursive case:\n",
    "    # Compute the sum by adding the first element of the array (arr[0]) to the\n",
    "    # result of the recursive call with the remainder of the array (arr[1:]).\n",
    "    # This breaks down the problem into smaller parts by continuously reducing\n",
    "    # the size of the array being processed.\n",
    "    else:\n",
    "        return arr[0] + recursive_sum(arr[1:])\n",
    "\n",
    "# Example usage of the function\n",
    "array = [92, 23, 15, -20, 10]\n",
    "\n",
    "# Execute the recursive_sum function and store the computed result\n",
    "result = recursive_sum(array)\n",
    "\n",
    "# Output the result, which represents the total sum of the array elements\n",
    "print(result)"
   ]
  },
  {
   "cell_type": "code",
   "execution_count": null,
   "id": "7fee94a4-4702-48f4-b3db-657d4a6c67f5",
   "metadata": {},
   "outputs": [],
   "source": [
    "Explaination\n",
    "\n",
    "Base Case:\n",
    "\n",
    "if len(arr) == 0: return 0\n",
    "If the array is empty, the function returns 0 because there are no elements to add, which stops further recursion.\n",
    "Recursive Case:\n",
    "\n",
    "return arr[0] + recursive_sum(arr[1:])\n",
    "The function computes the sum by adding the first element of the array (arr[0]) to the result of a recursive call that processes the remaining elements (arr[1:]). This process continues until the array is completely processed.\n",
    "Function Testing:\n",
    "\n",
    "The function is executed with the array [92, 23, 15, -20, 10].\n",
    "The result, stored in result, reflects the sum of the array’s elements, which is 120.\n",
    "\n",
    "\n",
    "\n",
    "\n",
    "\n"
   ]
  },
  {
   "cell_type": "code",
   "execution_count": 2,
   "id": "5005f046-0650-4db2-8862-24d18e26f626",
   "metadata": {},
   "outputs": [
    {
     "ename": "SyntaxError",
     "evalue": "invalid syntax (2698353127.py, line 1)",
     "output_type": "error",
     "traceback": [
      "\u001b[0;36m  Cell \u001b[0;32mIn[2], line 1\u001b[0;36m\u001b[0m\n\u001b[0;31m    Q.5 Given a number n. Print if it is an armstrong number or not.An armstrong number is a number if the sum\u001b[0m\n\u001b[0m     ^\u001b[0m\n\u001b[0;31mSyntaxError\u001b[0m\u001b[0;31m:\u001b[0m invalid syntax\n"
     ]
    }
   ],
   "source": [
    "Q.5 Given a number n. Print if it is an armstrong number or not.An armstrong number is a number if the sum \n",
    "of every digit in that number raised to the power of total digits in that number is equal to the number.\n",
    "\n",
    "Example : 153 = 1^3 + 5^3 + 3^3 = 1 + 125 + 27 = 153 hence 153 is an armstrong number. (Easy)\n",
    "\n",
    "\n",
    "Input1 : 153\n",
    "\n",
    "\n",
    "Output1 : Yes\n",
    "\n",
    "\n",
    "\n",
    "Input 2 : 134\n",
    "\n",
    "Output2 : No"
   ]
  },
  {
   "cell_type": "code",
   "execution_count": null,
   "id": "2630db26-4919-4e55-99a2-e71cca176469",
   "metadata": {},
   "outputs": [],
   "source": [
    "def is_armstrong_number(n):\n",
    "    def count_digits(num):\n",
    "        # When the number is 0, it is considered to have 1 digit.\n",
    "        if num == 0:\n",
    "            return 1\n",
    "        # Recursively count digits by dividing the number by 10.\n",
    "        return 1 + count_digits(num // 10)\n",
    "\n",
    "    def sum_of_powers(num, power):\n",
    "        # If the number is 0, the sum of the powers is 0.\n",
    "        if num == 0:\n",
    "            return 0\n",
    "        # Compute the power of the last digit and add it to the sum of the powers of the remaining digits.\n",
    "        return (num % 10) ** power + sum_of_powers(num // 10, power)\n",
    "\n",
    "    # Determine the total number of digits in the number\n",
    "    num_digits = count_digits(n)\n",
    "    # Compute the sum of each digit raised to the power of the number of digits\n",
    "    sum_of_powers_of_digits = sum_of_powers(n, num_digits)\n",
    "    \n",
    "    # Return True if the computed sum matches the original number; otherwise, return False\n",
    "    return sum_of_powers_of_digits == n\n",
    "\n",
    "# Test the function with sample inputs\n",
    "input1 = 153\n",
    "input2 = 134\n",
    "\n",
    "# Output \"Yes\" if the number is an Armstrong number, otherwise output \"No\"\n",
    "print(\"Yes\" if is_armstrong_number(input1) else \"No\")\n",
    "print(\"Yes\" if is_armstrong_number(input2) else \"No\")"
   ]
  },
  {
   "cell_type": "code",
   "execution_count": null,
   "id": "5e77835f-473f-406c-83a5-24d800900b5b",
   "metadata": {},
   "outputs": [],
   "source": [
    "Explaination :-\n",
    "\n",
    "count_digits(num) Function:\n",
    "\n",
    "Special Case: If num is 0, it is considered to have a single digit.\n",
    "Recursive Case: Counts the digits by repeatedly dividing num by 10, incrementing the count for each digit.\n",
    "sum_of_powers(num, power) Function:\n",
    "\n",
    "Base Case: When num is 0, the sum of the powers is 0.\n",
    "Recursive Case: Adds the power of the last digit to the total sum of the powers of the remaining digits.\n",
    "Main Function Logic:\n",
    "\n",
    "Digit Count: Determines the total number of digits in the given number.\n",
    "Power Sum: Calculates the sum of each digit raised to the power of the total number of digits.\n",
    "Comparison: Compares this calculated sum to the original number to verify if they are equal.\n",
    "\n",
    "\n",
    "\n",
    "\n",
    "\n"
   ]
  }
 ],
 "metadata": {
  "kernelspec": {
   "display_name": "Python 3 (ipykernel)",
   "language": "python",
   "name": "python3"
  },
  "language_info": {
   "codemirror_mode": {
    "name": "ipython",
    "version": 3
   },
   "file_extension": ".py",
   "mimetype": "text/x-python",
   "name": "python",
   "nbconvert_exporter": "python",
   "pygments_lexer": "ipython3",
   "version": "3.10.8"
  }
 },
 "nbformat": 4,
 "nbformat_minor": 5
}
