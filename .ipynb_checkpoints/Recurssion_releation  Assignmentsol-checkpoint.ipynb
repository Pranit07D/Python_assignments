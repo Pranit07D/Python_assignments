{
 "cells": [
  {
   "cell_type": "code",
   "execution_count": null,
   "id": "4e0d29ff-504b-46f8-8fad-a99d31262d4b",
   "metadata": {},
   "outputs": [],
   "source": [
    "1. Find the value of T(2) for the recurrence relation T(n) = 3T(n-1) + 12n, given that T(0)=5."
   ]
  },
  {
   "cell_type": "code",
   "execution_count": null,
   "id": "2a20e01b-45b5-4c6c-b28d-41d999fd42df",
   "metadata": {},
   "outputs": [],
   "source": [
    "Given the initial conditionT(0)=5, let's calculate the value of T(2) using the recurrence relationT(n)=3T(n−1)+12n:\n",
    "T(n)=3T(n−1)+12n:\n",
    "  For 𝑛 = 1\n",
    "   T(1)=3T(0)+12⋅1  \n",
    "    T(1)=3⋅5+12\n",
    "      T(1)=15+12\n",
    "        T(1)=27\n",
    "         For 𝑛 = 2\n",
    "          T(2)=3T(1)+12⋅2 \n",
    "            T(2)=3⋅27+24\n",
    "              T(2)=81+24\n",
    "                T(2)=105\n",
    "                Therefore, by applying the recurrence relation step-by-step, the value of 𝑇(2) is 105\n"
   ]
  },
  {
   "cell_type": "code",
   "execution_count": 2,
   "id": "a17bd1a3-7eaf-4ec6-8228-b983aff25e64",
   "metadata": {},
   "outputs": [
    {
     "name": "stdout",
     "output_type": "stream",
     "text": [
      "105\n"
     ]
    }
   ],
   "source": [
    "def T(n):\n",
    "    # Base case: when n is 0, return the initial value T(0) = 5\n",
    "    if n == 0:\n",
    "        return 5\n",
    "    else:\n",
    "        # Recursive case: use the recurrence relation to compute T(n)\n",
    "        # T(n) = 3 * T(n - 1) + 12 * n\n",
    "        return 3 * T(n - 1) + 12 * n\n",
    "\n",
    "# Compute T(2) using the recursive function\n",
    "result = T(2)\n",
    "\n",
    "print(result)"
   ]
  },
  {
   "cell_type": "code",
   "execution_count": null,
   "id": "91bd8b6e-8ef6-4bd1-8b66-42bbfcc4a9c5",
   "metadata": {},
   "outputs": [],
   "source": [
    "Explaination :- \n",
    "\n",
    "Function Definition: The function T(n) calculates the value of 𝑇(𝑛) T(n) based on the following rules\n",
    "Base Case: If n equals 0, the function returns 5, as 𝑇(0)=5 \n",
    "Recursive Case: For any value of n greater than 0\n",
    "The function calls itself with 𝑛−1 to get the value of T(n−1).\n",
    "It then multiplies this result by 3.\n",
    "It adds 12×n to the product.\n",
    "Finally, it returns this computed value.\n",
    "To find T(2), the function is invoked with n=2 and the result is printed. The line print(result) displays the value of T(2), which is obtained from the function."
   ]
  },
  {
   "cell_type": "code",
   "execution_count": null,
   "id": "3953f360-f7f1-40e2-8062-c1687c25aac5",
   "metadata": {},
   "outputs": [],
   "source": [
    "2. Given a recurrence relation, solve it using the substitution method:\n",
    "\n",
    "a. T(n) = T(n-1) + c\n",
    "\n",
    "b. T(n) = 2T(n/2) + n\n",
    "\n",
    "c. T(n) = 2T(n/2) + c\n",
    "\n",
    "d. T(n) = T(n/2) + c"
   ]
  },
  {
   "cell_type": "code",
   "execution_count": null,
   "id": "783bb708-a10f-46ce-9414-e2f5fdd98526",
   "metadata": {},
   "outputs": [],
   "source": [
    "a. T(n) = T(n-1) + c"
   ]
  },
  {
   "cell_type": "code",
   "execution_count": null,
   "id": "7483a0fb-3656-4def-82ee-fafea4b99c26",
   "metadata": {},
   "outputs": [],
   "source": [
    "def T(n, c):\n",
    "    if n == 0:\n",
    "        return 5  # Base case: T(0) = 5\n",
    "    else:\n",
    "        return T(n-1, c) + c\n",
    "\n",
    "# Test\n",
    "c = 1\n",
    "print(f\"T(2) = {T(2, c)}\")"
   ]
  },
  {
   "cell_type": "code",
   "execution_count": 3,
   "id": "fed8c1ea-f325-4e68-9acc-1cddead6e939",
   "metadata": {},
   "outputs": [
    {
     "ename": "SyntaxError",
     "evalue": "invalid decimal literal (3730371660.py, line 3)",
     "output_type": "error",
     "traceback": [
      "\u001b[0;36m  Cell \u001b[0;32mIn[3], line 3\u001b[0;36m\u001b[0m\n\u001b[0;31m    the function evaluates 𝑇(2)=2𝑐+5\u001b[0m\n\u001b[0m                                ^\u001b[0m\n\u001b[0;31mSyntaxError\u001b[0m\u001b[0;31m:\u001b[0m invalid decimal literal\n"
     ]
    }
   ],
   "source": [
    "Explanation: For this recurrence relation, the general solution takes the form \n",
    "𝑇(𝑛)=𝑐𝑛+𝑇(0), where 𝑇(0)=5. Consequently, to compute T(2)\n",
    "the function evaluates 𝑇(2)=2𝑐+5\n",
    "With 𝑐=1, this yields 𝑇(2)=7."
   ]
  },
  {
   "cell_type": "code",
   "execution_count": null,
   "id": "9bb61c8f-dd6d-49c3-894d-f5c3367716dd",
   "metadata": {},
   "outputs": [],
   "source": []
  },
  {
   "cell_type": "code",
   "execution_count": null,
   "id": "6dd2365e-144d-4cd8-81dd-c644f2564216",
   "metadata": {},
   "outputs": [],
   "source": [
    "b. T(n) = 2T(n/2) + n"
   ]
  },
  {
   "cell_type": "code",
   "execution_count": null,
   "id": "8d402718-2cad-4d42-8503-34df57df4cdb",
   "metadata": {},
   "outputs": [],
   "source": [
    "def T(n):\n",
    "    if n == 1:\n",
    "        return 1  # Base case: T(1) = 1\n",
    "    else:\n",
    "        return 2 * T(n // 2) + n\n",
    "\n",
    "# Test\n",
    "print(f\"T(8) = {T(8)}\")"
   ]
  },
  {
   "cell_type": "code",
   "execution_count": null,
   "id": "7c51a4f1-065b-4096-887a-1215210bd418",
   "metadata": {},
   "outputs": [],
   "source": [
    "Explanation: This recurrence relation can be solved to yield T(n)=O(nlogn) The function calculates the result forn=8 based on this recurrence formula."
   ]
  },
  {
   "cell_type": "code",
   "execution_count": null,
   "id": "bc24a696-9dc9-49bd-90dd-604522fd5c80",
   "metadata": {},
   "outputs": [],
   "source": [
    "c. T(n) = 2T(n/2) + c"
   ]
  },
  {
   "cell_type": "code",
   "execution_count": 4,
   "id": "c474e12f-ea82-4b1e-94a8-d6424f67cb61",
   "metadata": {},
   "outputs": [
    {
     "name": "stdout",
     "output_type": "stream",
     "text": [
      "T(8) = 15\n"
     ]
    }
   ],
   "source": [
    "def T(n, c):\n",
    "    if n == 1:\n",
    "        return 1  # Base case: T(1) = 1\n",
    "    else:\n",
    "        return 2 * T(n // 2, c) + c\n",
    "\n",
    "# Test\n",
    "c = 1\n",
    "print(f\"T(8) = {T(8, c)}\")"
   ]
  },
  {
   "cell_type": "code",
   "execution_count": null,
   "id": "803a053d-38e6-479b-93ea-0d5230410d8f",
   "metadata": {},
   "outputs": [],
   "source": [
    "Explanation: This recurrence relation resolves to T(n)=O(n) The function computes the value for n=8 using this recurrence formula."
   ]
  },
  {
   "cell_type": "code",
   "execution_count": null,
   "id": "ec726c1d-693a-419e-971a-cc8a30a2a551",
   "metadata": {},
   "outputs": [],
   "source": [
    "d. T(n) = T(n/2) + c"
   ]
  },
  {
   "cell_type": "code",
   "execution_count": null,
   "id": "d9d42964-41f0-4a36-9d25-29bc974b5c08",
   "metadata": {},
   "outputs": [],
   "source": [
    "def T(n, c):\n",
    "    if n == 1:\n",
    "        return 1  # Base case: T(1) = 1\n",
    "    else:\n",
    "        return T(n // 2, c) + c\n",
    "\n",
    "# Test\n",
    "c = 1\n",
    "print(f\"T(8) = {T(8, c)}\")"
   ]
  },
  {
   "cell_type": "code",
   "execution_count": null,
   "id": "4966a9f2-feb5-4beb-8857-5d67df1a76bf",
   "metadata": {},
   "outputs": [],
   "source": [
    "Explanation: This recurrence relation resolves to  \n",
    "𝑇(𝑛)=𝑂(log𝑛) The function evaluates the result for n=8 using this recurrence formula."
   ]
  },
  {
   "cell_type": "code",
   "execution_count": null,
   "id": "9eac947d-3589-4c7a-a834-82b5615c2570",
   "metadata": {},
   "outputs": [],
   "source": [
    "3. Given a recurrence relation, solve it using the recursive tree approach:\n",
    "\n",
    "a. T(n) = 2T(n-1) +1\n",
    "\n",
    "b. T(n) = 2T(n/2) + n"
   ]
  },
  {
   "cell_type": "code",
   "execution_count": null,
   "id": "490ae761-2cf9-4781-8b14-18ccfb12e96f",
   "metadata": {},
   "outputs": [],
   "source": [
    "a. T(n) = 2T(n-1) +1"
   ]
  },
  {
   "cell_type": "code",
   "execution_count": null,
   "id": "6627a758-357c-4d91-b71d-81f754cc3dd4",
   "metadata": {},
   "outputs": [],
   "source": [
    "def T(n):\n",
    "    if n <= 0:\n",
    "        return 1  # Base case: return 1 when n is 0 or less\n",
    "    return 2 * T(n - 1) + 1  # Recursive case: T(n) = 2 * T(n-1) + 1\n",
    "\n",
    "# Function to compute and display the costs at each level of the recursion tree\n",
    "def compute_costs(n):\n",
    "    costs = []  # List to keep track of the cost at each level\n",
    "    def calculate_cost(n):\n",
    "        level_cost = 0  # Initialize the cost for the current level\n",
    "        while n > 0:\n",
    "            level_cost += 2 ** n  # Add the cost for the current level (2^n)\n",
    "            n -= 1  # Move to the previous level\n",
    "        costs.append(level_cost)  # Store the cost for this level\n",
    "    \n",
    "    calculate_cost(n)  # Compute the costs starting from level n\n",
    "    return costs  # Return the collected costs\n",
    "\n",
    "# Test\n",
    "n = 4\n",
    "print(f\"T({n}) = {T(n)}\")  # Calculate and display the result of T(n)\n",
    "\n",
    "# Display the costs for each level of the recursion tree\n",
    "costs = compute_costs(n)\n",
    "print(f\"Costs per level: {costs}\")  # Print the costs associated with each level"
   ]
  },
  {
   "cell_type": "code",
   "execution_count": null,
   "id": "a9cf3bea-1a44-4797-aa56-27dc8d7e2592",
   "metadata": {},
   "outputs": [],
   "source": [
    "Explaination:- \n",
    "\n",
    "The function T(n) computes values based on the given recurrence relation. \n",
    "If n is 0 or less, it returns 1. For other values of n, it calculates \n",
    "T(n) by making a recursive call to itself with n−1, doubling the result of that call, and adding 1.\n",
    "The function compute_costs(n) determines the cost at each level of the recursion tree. It aggregates the cost for each level and keeps track of these costs in a list.\n",
    "In the calculate_cost(n) function, a while loop calculates the cost for each level using \n",
    "2^𝑛, decrementing n at each step to proceed to the next level.\n",
    "The test section evaluates T(n) for \n",
    "n=4 and displays the accumulated costs for each level of the recursion tree."
   ]
  },
  {
   "cell_type": "code",
   "execution_count": null,
   "id": "bf54e286-79ce-42f1-a851-76e96d7fcaa4",
   "metadata": {},
   "outputs": [],
   "source": [
    "b. T(n) = 2T(n/2) + n"
   ]
  },
  {
   "cell_type": "code",
   "execution_count": null,
   "id": "21445c58-c72e-4ffc-8079-f6c652ead9bb",
   "metadata": {},
   "outputs": [],
   "source": [
    "def T(n):\n",
    "    if n <= 1:\n",
    "        return n  # Base case: returns n when it is 1 or less\n",
    "    return 2 * T(n // 2) + n  # Recursive case: T(n) = 2 * T(n/2) + n\n",
    "\n",
    "# Function to compute and display the costs for each level in the recursion tree\n",
    "def compute_costs(n):\n",
    "    costs = []  # List to collect the cost at each recursion level\n",
    "    while n > 0:\n",
    "        costs.append(n)  # Record the cost at the current level\n",
    "        n //= 2  # Halve n to move to the next level\n",
    "    return costs  # Return the collected costs\n",
    "\n",
    "# Test\n",
    "n = 8\n",
    "print(f\"T({n}) = {T(n)}\")  # Calculate and output the value of T(n)\n",
    "\n",
    "# Calculate and print the costs associated with each level\n",
    "costs = compute_costs(n)\n",
    "print(f\"Costs per level: {costs}\") "
   ]
  },
  {
   "cell_type": "code",
   "execution_count": null,
   "id": "5b1353b0-f367-4d72-abbc-4507b924bf93",
   "metadata": {},
   "outputs": [],
   "source": [
    "Explanation:\n",
    "\n",
    "The function T(n) computes its value using the recurrence relation. \n",
    "When n is 1 or less, it directly returns \n",
    "n. For larger values of n, it recursively calculates \n",
    "T(n) by calling itself with n//2, doubling the result of this recursive call, and adding n.\n",
    "The function compute_costs(n) calculates the costs at each recursion level. It does this by recording the current value of n at each level, and then reducing \n",
    "n by half to move to the next level.\n",
    "In the test section, T(n) is evaluated for n=8, and the result is printed. Additionally, the costs for each level of the recursion tree are computed and displayed"
   ]
  }
 ],
 "metadata": {
  "kernelspec": {
   "display_name": "Python 3 (ipykernel)",
   "language": "python",
   "name": "python3"
  },
  "language_info": {
   "codemirror_mode": {
    "name": "ipython",
    "version": 3
   },
   "file_extension": ".py",
   "mimetype": "text/x-python",
   "name": "python",
   "nbconvert_exporter": "python",
   "pygments_lexer": "ipython3",
   "version": "3.10.8"
  }
 },
 "nbformat": 4,
 "nbformat_minor": 5
}
