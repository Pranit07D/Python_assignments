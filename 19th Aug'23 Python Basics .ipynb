{
 "cells": [
  {
   "cell_type": "code",
   "execution_count": null,
   "id": "12d6a980-ff93-4053-a4ee-c1e4343412c8",
   "metadata": {},
   "outputs": [],
   "source": [
    "TOPIC: Python Basics Variable"
   ]
  },
  {
   "cell_type": "code",
   "execution_count": null,
   "id": "a3a11ceb-01ba-4f51-9e8e-2671bc6b8777",
   "metadata": {},
   "outputs": [],
   "source": [
    "1. Declare two variables, `x` and `y`, and assign them integer values. Swap the\n",
    "values of these variables without using any temporary variable."
   ]
  },
  {
   "cell_type": "code",
   "execution_count": 3,
   "id": "f96382c8-7525-499d-9df2-edf9c5c33b31",
   "metadata": {},
   "outputs": [
    {
     "name": "stdout",
     "output_type": "stream",
     "text": [
      "x: 18\n",
      "y: 7\n"
     ]
    }
   ],
   "source": [
    "# Initialize two variables\n",
    "x = 7\n",
    "y = 18\n",
    "\n",
    "# Swap their values without a temporary variable\n",
    "x, y = y, x\n",
    "\n",
    "# Display the swapped values\n",
    "print(\"x:\", x)\n",
    "print(\"y:\", y)\n",
    "\n",
    "#Explanation:\n",
    "\n",
    "#Initial Values: x is set to 5, and y is set to 10.\n",
    "#Swapping: The statement x, y = y, x exchanges the values of x and y. Python’s syntax supports multiple assignments simultaneously, making this possible.\n",
    "#Result: After the swap, x becomes 10, and y becomes 5.\n",
    "\n",
    "\n",
    "\n",
    "\n",
    "\n"
   ]
  },
  {
   "cell_type": "code",
   "execution_count": null,
   "id": "89713262-189b-47b9-a1a6-a7cd98bbeae8",
   "metadata": {},
   "outputs": [],
   "source": [
    "2. Create a program that calculates the area of a rectangle. Take the length and\n",
    "width as inputs from the user and store them in variables. Calculate and\n",
    "display the area."
   ]
  },
  {
   "cell_type": "code",
   "execution_count": 1,
   "id": "033931a1-e0ca-4e40-b51a-6a570f494e3c",
   "metadata": {},
   "outputs": [
    {
     "name": "stdin",
     "output_type": "stream",
     "text": [
      "Enter the length of the rectangle:  56\n",
      "Enter the width of the rectangle:  58\n"
     ]
    },
    {
     "name": "stdout",
     "output_type": "stream",
     "text": [
      "The area of the rectangle is: 3248.0\n"
     ]
    }
   ],
   "source": [
    "# Ask the user to provide the length of the rectangle and convert it to a float\n",
    "length = float(input(\"Enter the length of the rectangle: \"))\n",
    "\n",
    "# Ask the user to provide the width of the rectangle and convert it to a float\n",
    "width = float(input(\"Enter the width of the rectangle: \"))\n",
    "\n",
    "# Calculate the area by multiplying the length by the width\n",
    "area = length * width\n",
    "\n",
    "# Display the result with the computed area\n",
    "print(\"The area of the rectangle is:\", area)\n",
    "\n",
    "\n",
    "#Explanation:\n",
    "\n",
    "#User Input: The program prompts the user to enter the length and width of the rectangle, converting these values to floating-point numbers to accommodate decimals.\n",
    "#Area Calculation: It computes the area by multiplying the length by the width.\n",
    "#Display Result: Finally, the calculated area is displayed on the screen."
   ]
  },
  {
   "cell_type": "code",
   "execution_count": null,
   "id": "952caae2-ea70-4e59-be26-ecf05467fbce",
   "metadata": {},
   "outputs": [],
   "source": [
    "3. Write a Python program that converts temperatures from Celsius to\n",
    "Fahrenheit. Take the temperature in Celsius as input, store it in a variable,\n",
    "convert it to Fahrenheit, and display the result."
   ]
  },
  {
   "cell_type": "code",
   "execution_count": 4,
   "id": "207e25f0-8bee-457c-acff-833b3ec76255",
   "metadata": {},
   "outputs": [
    {
     "name": "stdin",
     "output_type": "stream",
     "text": [
      "Please enter the temperature in Celsius:  100\n"
     ]
    },
    {
     "name": "stdout",
     "output_type": "stream",
     "text": [
      "The temperature in Fahrenheit is: 212.0\n"
     ]
    }
   ],
   "source": [
    "# Request the user to input the temperature in Celsius\n",
    "celsius = float(input(\"Please enter the temperature in Celsius: \"))\n",
    "\n",
    "# Convert the Celsius temperature to Fahrenheit using the formula\n",
    "fahrenheit = (celsius * 9/5) + 32\n",
    "\n",
    "# Output the temperature in Fahrenheit\n",
    "print(\"The temperature in Fahrenheit is:\", fahrenheit)\n",
    "\n",
    "\n",
    "#Explanation:\n",
    "\n",
    "#User Input: The program prompts the user to enter the temperature in Celsius, converting it to a float to manage decimal values.\n",
    "#Conversion: It uses the formula (celsius * 9/5) + 32 to transform the Celsius temperature into Fahrenheit.\n",
    "#Output: The resulting temperature in Fahrenheit is then displayed."
   ]
  },
  {
   "cell_type": "code",
   "execution_count": null,
   "id": "40c61d3f-0915-4281-a7a4-e56bb47d332a",
   "metadata": {},
   "outputs": [],
   "source": [
    "TOPIC: String Based Questions"
   ]
  },
  {
   "cell_type": "code",
   "execution_count": null,
   "id": "f4ea4fb3-bf30-47e3-9244-fedb446e4832",
   "metadata": {},
   "outputs": [],
   "source": [
    "1. Write a Python program that takes a string as input and prints the length of\n",
    "the string."
   ]
  },
  {
   "cell_type": "code",
   "execution_count": 5,
   "id": "f5c0cf90-56be-4cea-857e-2e09faf6fed1",
   "metadata": {},
   "outputs": [
    {
     "name": "stdin",
     "output_type": "stream",
     "text": [
      "Please enter a string:  pranit\n"
     ]
    },
    {
     "name": "stdout",
     "output_type": "stream",
     "text": [
      "The length of the string is: 6\n"
     ]
    }
   ],
   "source": [
    "# Ask the user to input a string\n",
    "user_input = input(\"Please enter a string: \")\n",
    "\n",
    "# Determine the length of the string\n",
    "string_length = len(user_input)\n",
    "\n",
    "# Output the length of the string\n",
    "print(\"The length of the string is:\", string_length)\n",
    "\n",
    "\n",
    "\n",
    "\n",
    "#Explanation:\n",
    "\n",
    "#User Input: The program prompts the user to provide a string.\n",
    "#Length Calculation: The len() function is utilized to find out the number of characters in the input string.\n",
    "#Display Result: The length of the string is then displayed on the screen.\n"
   ]
  },
  {
   "cell_type": "code",
   "execution_count": null,
   "id": "f3609d75-9f0f-4e43-8580-f594510ad1d5",
   "metadata": {},
   "outputs": [],
   "source": [
    "2. Create a program that takes a sentence from the user and counts the number\n",
    "of vowels (a, e, i, o, u) in the string."
   ]
  },
  {
   "cell_type": "code",
   "execution_count": 6,
   "id": "36b82f48-7b50-4d4f-9b19-5539dc7d0647",
   "metadata": {},
   "outputs": [
    {
     "name": "stdin",
     "output_type": "stream",
     "text": [
      "Please enter a sentence:  i hate you\n"
     ]
    },
    {
     "name": "stdout",
     "output_type": "stream",
     "text": [
      "Total number of vowels in the sentence: 5\n"
     ]
    }
   ],
   "source": [
    "# Request the user to input a sentence\n",
    "sentence = input(\"Please enter a sentence: \")\n",
    "\n",
    "# Specify the vowels to search for\n",
    "vowels = 'aeiouAEIOU'\n",
    "\n",
    "# Start a counter for the vowels\n",
    "vowel_count = 0\n",
    "\n",
    "# Loop through each character in the sentence\n",
    "for char in sentence:\n",
    "    # Increment the counter if the character is a vowel\n",
    "    if char in vowels:\n",
    "        vowel_count += 1\n",
    "\n",
    "# Output the total count of vowels\n",
    "print(\"Total number of vowels in the sentence:\", vowel_count)\n",
    "\n",
    "#Explanation:\n",
    "\n",
    "#User Input: The program prompts the user to input a sentence.\n",
    "#Vowel Set: A collection of vowels, including both lowercase and uppercase, is specified.\n",
    "#Counting Vowels: The program examines each character in the sentence, checks if it is a vowel, and updates the count accordingly.\n",
    "#Display Result: The final count of vowels is displayed."
   ]
  },
  {
   "cell_type": "code",
   "execution_count": null,
   "id": "18e30fff-1cca-48ab-9728-37ed381bb9ad",
   "metadata": {},
   "outputs": [],
   "source": [
    "3. Given a string, reverse the order of characters using string slicing and print\n",
    "the reversed string."
   ]
  },
  {
   "cell_type": "code",
   "execution_count": 8,
   "id": "a594f3bf-1fcc-40f2-82b4-ce92709e480d",
   "metadata": {},
   "outputs": [
    {
     "name": "stdout",
     "output_type": "stream",
     "text": [
      "The reversed string is: eyb olahc\n"
     ]
    }
   ],
   "source": [
    "# Define the original string\n",
    "original_string = \"chalo bye\"\n",
    "\n",
    "# Reverse the string using slicing\n",
    "reversed_string = original_string[::-1]\n",
    "\n",
    "# Output the reversed string\n",
    "print(\"The reversed string is:\", reversed_string)\n",
    "\n",
    "#Explanation:\n",
    "\n",
    "#Original String: The string to be reversed is defined.\n",
    "#Reversal Process: The string is reversed using slicing notation [::-1], which starts from the end of the string and proceeds backward.\n",
    "#Result Display: The reversed string is then displayed."
   ]
  },
  {
   "cell_type": "code",
   "execution_count": null,
   "id": "c38af96e-baa8-4bf8-85b6-dae3e8d4d04d",
   "metadata": {},
   "outputs": [],
   "source": [
    "4. Write a program that takes a string as input and checks if it is a palindrome\n",
    "(reads the same forwards and backwards)."
   ]
  },
  {
   "cell_type": "code",
   "execution_count": 9,
   "id": "f3d3427d-0526-4730-8816-b839a179658a",
   "metadata": {},
   "outputs": [
    {
     "name": "stdin",
     "output_type": "stream",
     "text": [
      "Please enter a string:  BMWGG\n"
     ]
    },
    {
     "name": "stdout",
     "output_type": "stream",
     "text": [
      "The string is not a palindrome.\n"
     ]
    }
   ],
   "source": [
    "# Ask the user to input a string\n",
    "string = input(\"Please enter a string: \")\n",
    "\n",
    "# Remove spaces and convert the string to lowercase to ensure accurate checking\n",
    "cleaned_string = string.replace(\" \", \"\").lower()\n",
    "\n",
    "# Determine if the cleaned string is identical forwards and backwards\n",
    "is_palindrome = cleaned_string == cleaned_string[::-1]\n",
    "\n",
    "# Print the result\n",
    "if is_palindrome:\n",
    "    print(\"The string is a palindrome.\")\n",
    "else:\n",
    "    print(\"The string is not a palindrome.\")\n",
    "    \n",
    "    \n",
    "#Explanation:\n",
    "\n",
    "#User Input: The program requests the user to enter a string.\n",
    "#Processing: The input string is sanitized by removing spaces and converting it to lowercase to ensure an accurate check.\n",
    "#Palindrome Verification: The program determines if the processed string is identical when read forwards and backwards using slicing.\n",
    "#Result Display: The result is printed, indicating whether the string is a palindrome."
   ]
  },
  {
   "cell_type": "code",
   "execution_count": null,
   "id": "62398d81-f06a-4b73-83f5-50d499b30bb4",
   "metadata": {},
   "outputs": [],
   "source": [
    "5. Create a program that takes a string as input and removes all the spaces from\n",
    "it. Print the modified string without spaces."
   ]
  },
  {
   "cell_type": "code",
   "execution_count": 11,
   "id": "b7ecbbd8-77b7-4591-9c38-e7b21191a9bf",
   "metadata": {},
   "outputs": [
    {
     "name": "stdin",
     "output_type": "stream",
     "text": [
      "Please enter a string:  pjdhd  hdu\n"
     ]
    },
    {
     "name": "stdout",
     "output_type": "stream",
     "text": [
      "String with spaces removed: pjdhdhdu\n"
     ]
    }
   ],
   "source": [
    "# Ask the user to provide a string\n",
    "string = input(\"Please enter a string: \")\n",
    "\n",
    "# Eliminate all spaces from the string\n",
    "string_no_spaces = string.replace(\" \", \"\")\n",
    "\n",
    "# Display the string with spaces removed\n",
    "print(\"String with spaces removed:\", string_no_spaces)\n",
    "\n",
    "#Explanation:\n",
    "\n",
    "#User Input: The program prompts the user to input a string.\n",
    "#Removing Spaces: It eliminates all spaces from the string using the replace() method.\n",
    "#Output: The resulting string, which no longer contains spaces, is displayed.\n",
    "\n",
    "\n",
    "\n",
    "\n",
    "\n"
   ]
  },
  {
   "cell_type": "code",
   "execution_count": null,
   "id": "774d07d9-fd5c-4d2a-956c-bbe7be9191ec",
   "metadata": {},
   "outputs": [],
   "source": []
  }
 ],
 "metadata": {
  "kernelspec": {
   "display_name": "Python 3 (ipykernel)",
   "language": "python",
   "name": "python3"
  },
  "language_info": {
   "codemirror_mode": {
    "name": "ipython",
    "version": 3
   },
   "file_extension": ".py",
   "mimetype": "text/x-python",
   "name": "python",
   "nbconvert_exporter": "python",
   "pygments_lexer": "ipython3",
   "version": "3.10.8"
  }
 },
 "nbformat": 4,
 "nbformat_minor": 5
}
