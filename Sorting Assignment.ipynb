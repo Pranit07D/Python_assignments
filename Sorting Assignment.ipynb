{
 "cells": [
  {
   "cell_type": "code",
   "execution_count": null,
   "id": "b372133b-d59e-475f-8870-8ffb4d7d4225",
   "metadata": {},
   "outputs": [],
   "source": [
    "Problem 1.Given an array of n numbers, give an algorithm which gives the element appearing maximum \n",
    "number of times?"
   ]
  },
  {
   "cell_type": "code",
   "execution_count": 2,
   "id": "76444ca0-ccb3-4e35-aac6-5c595e5a47f2",
   "metadata": {},
   "outputs": [
    {
     "name": "stdout",
     "output_type": "stream",
     "text": [
      "7\n"
     ]
    }
   ],
   "source": [
    "def find_max_occurrence(arr):\n",
    "    # Step 1: Sort the array\n",
    "    arr.sort()\n",
    "    \n",
    "    # Step 2: Initialize variables\n",
    "    # max_count keeps track of the highest frequency encountered so far\n",
    "    # current_count keeps track of the frequency of the current element\n",
    "    # max_element is the element with the highest frequency\n",
    "    # current_element is the element currently being processed\n",
    "    max_count = 1\n",
    "    current_count = 1\n",
    "    max_element = arr[0]\n",
    "    current_element = arr[0]\n",
    "    \n",
    "    # Step 3: Traverse the sorted array\n",
    "    for i in range(1, len(arr)):\n",
    "        if arr[i] == current_element:\n",
    "            # If the current element matches the previous one, increase the count\n",
    "            current_count += 1\n",
    "        else:\n",
    "            # If the current element is different, update current_element and reset current_count\n",
    "            current_element = arr[i]\n",
    "            current_count = 1\n",
    "        \n",
    "        # Step 4: Update the maximum frequency and corresponding element if necessary\n",
    "        if current_count > max_count:\n",
    "            max_count = current_count\n",
    "            max_element = current_element\n",
    "    \n",
    "    # Step 5: Return the element that appears most frequently\n",
    "    return max_element\n",
    "\n",
    "arr = [7, 8, 8, 7, 5, 9, 6, 7, 7, 7, 2]\n",
    "print(find_max_occurrence(arr))"
   ]
  },
  {
   "cell_type": "code",
   "execution_count": null,
   "id": "09c02066-214a-4fcf-9d07-08a4fede782e",
   "metadata": {},
   "outputs": [],
   "source": [
    "Explanation:\n",
    "    \n",
    "Step 1: Sort the array\n",
    "\n",
    "arr.sort(): This sorts the array in ascending order.\n",
    "Step 2: Initialize tracking variables\n",
    "\n",
    "max_count = 1: Initialize the highest frequency observed so far to 1.\n",
    "current_count = 1: Initialize the count of the current element to 1.\n",
    "max_element = arr[0]: Set the first element as the one with the highest frequency initially.\n",
    "current_element = arr[0]: Start counting from the first element.\n",
    "Step 3: Traverse the sorted array\n",
    "\n",
    "for i in range(1, len(arr)): Loop through the array starting from the second element.\n",
    "if arr[i] == current_element: If the current element matches the previous one, increment the count (current_count += 1).\n",
    "else: If a new element is encountered, update current_element to this new element and reset current_count to 1.\n",
    "Step 4: Update the maximum frequency and corresponding element\n",
    "\n",
    "if current_count > max_count: If the current element's frequency surpasses the highest frequency observed so far, update max_count and max_element to the current values.\n",
    "Step 5: Return the element that appears most frequently\n",
    "\n",
    "return max_element: Return the element with the highest frequency in the array."
   ]
  },
  {
   "cell_type": "code",
   "execution_count": null,
   "id": "a04e2339-56b3-479b-8850-2e58998ecd07",
   "metadata": {},
   "outputs": [],
   "source": [
    "Problem 2 : We are given a list of n-1 integers and these integers are in the range of 1 to n . There are no \n",
    "duplicates in the list. One of the integers is missing in the list. Give an algorithm to find that element Ex: \n",
    "[1,2,4,6,3,7,8] 5 is the missing num."
   ]
  },
  {
   "cell_type": "code",
   "execution_count": 5,
   "id": "23ce3786-1acd-4daf-b911-79a5a644ee3c",
   "metadata": {},
   "outputs": [
    {
     "name": "stdout",
     "output_type": "stream",
     "text": [
      "5\n"
     ]
    }
   ],
   "source": [
    "def find_missing_number(arr):\n",
    "    # Step 1: Determine the expected length of the array\n",
    "    n = len(arr) + 1  # Adding 1 because one number is missing from the range 1 to n\n",
    "    \n",
    "    # Step 2: Compute the sum of numbers from 1 to n using the formula n * (n + 1) // 2\n",
    "    total_sum = n * (n + 1) // 2  # This is the sum if no numbers were missing\n",
    "    \n",
    "    # Step 3: Calculate the sum of the numbers present in the given array\n",
    "    array_sum = sum(arr)  # This gives the sum of the current numbers in the array\n",
    "    \n",
    "    # Step 4: Find the missing number by subtracting the array sum from the total sum\n",
    "    missing_number = total_sum - array_sum  # The missing number is the difference between these sums\n",
    "    \n",
    "    # Step 5: Return the missing number\n",
    "    return missing_number\n",
    "\n",
    "arr = [1, 2, 4, 6, 3, 7, 8]\n",
    "print(find_missing_number(arr)) "
   ]
  },
  {
   "cell_type": "code",
   "execution_count": null,
   "id": "7a6766b2-e247-46fb-bb95-3f2a956909cb",
   "metadata": {},
   "outputs": [],
   "source": [
    "Explaination:-\n",
    "\n",
    "Step 1: Determine the full length of the array\n",
    "\n",
    "n = len(arr) + 1: Add 1 to the current length of the array to include the missing number and find the total count of numbers.\n",
    "Step 2: Compute the sum of the first n natural numbers\n",
    "\n",
    "total_sum = n * (n + 1) // 2: Use this formula to calculate the sum of all integers from 1 to n.\n",
    "Step 3: Calculate the sum of the elements in the array\n",
    "\n",
    "array_sum = sum(arr): Compute the sum of the elements that are present in the given array.\n",
    "Step 4: Identify the missing number\n",
    "\n",
    "missing_number = total_sum - array_sum: Subtract the sum of the array elements from the computed total sum to find the missing number.\n",
    "Step 5: Return the missing number\n",
    "\n",
    "return missing_number: Provide the calculated missing number as the output of the function."
   ]
  },
  {
   "cell_type": "code",
   "execution_count": null,
   "id": "1d307bf3-470f-4748-904e-24588492fd29",
   "metadata": {},
   "outputs": [],
   "source": [
    "Problem 3 : Given an array of n positive numbers. All numbers occurs even number of times except 1 which \n",
    "occurs odd number of times. Find that number in O(n) time and O(1) space. Ex: [1,2,3,2,3,1,3]. 3 is repeats odd \n",
    "times."
   ]
  },
  {
   "cell_type": "code",
   "execution_count": 6,
   "id": "0582bfe5-df0e-4884-a2e9-b50b306cecf0",
   "metadata": {},
   "outputs": [
    {
     "name": "stdout",
     "output_type": "stream",
     "text": [
      "3\n"
     ]
    }
   ],
   "source": [
    "def find_odd_occurrence(arr):\n",
    "    # Step 1: Set up a variable to track the XOR results\n",
    "    result = 0\n",
    "    \n",
    "    # Step 2: Loop through each element in the array\n",
    "    for num in arr:\n",
    "        # Apply XOR between the current element and the result\n",
    "        result ^= num  # This operation will cancel out numbers that appear an even number of times\n",
    "    \n",
    "    # Step 3: After processing all elements, the result will be the number that appears an odd number of times\n",
    "    return result\n",
    "\n",
    "arr = [1, 2, 3, 2, 3, 1, 3]\n",
    "print(find_odd_occurrence(arr)) "
   ]
  },
  {
   "cell_type": "code",
   "execution_count": null,
   "id": "ee3e0175-df92-48ce-b1f3-17bff23921fd",
   "metadata": {},
   "outputs": [],
   "source": [
    "Explaination:-\n",
    "\n",
    "Initialize the result:-\n",
    "\n",
    "result = 0: Begin with 0 because performing an XOR operation with 0 does not change the outcome.\n",
    "Process each number:\n",
    "\n",
    "for num in arr: Iterate through each element in the array.\n",
    "result ^= num: Apply XOR between the current element and result. This operation will effectively eliminate numbers that appear an even number of times, leaving only the number that occurs an odd number of times.\n",
    "Return the result:\n",
    "\n",
    "return result: Once all elements have been processed, result will contain the number that appears an odd number of times."
   ]
  },
  {
   "cell_type": "code",
   "execution_count": null,
   "id": "ab2ba7b6-2cc4-429c-b14d-d13cb121baf4",
   "metadata": {},
   "outputs": [],
   "source": [
    "Problem 4 : Given an array of n elements. Find two elements in the array such that their sum is equal to given \n",
    "element K."
   ]
  },
  {
   "cell_type": "code",
   "execution_count": 7,
   "id": "1d9261d6-1f02-4fcf-86c9-a5c37d3cd957",
   "metadata": {},
   "outputs": [
    {
     "name": "stdout",
     "output_type": "stream",
     "text": [
      "(10, 7)\n"
     ]
    }
   ],
   "source": [
    "def find_pair_with_sum(arr, K):\n",
    "    # Step 1: Initialize an empty set to keep track of numbers we have encountered\n",
    "    seen = set()\n",
    "    \n",
    "    # Step 2: Iterate over each number in the array\n",
    "    for num in arr:\n",
    "        # Step 3: Compute the complement needed to reach the sum K\n",
    "        complement = K - num\n",
    "        \n",
    "        # Step 4: Check if this complement has already been seen\n",
    "        if complement in seen:\n",
    "            # If found, return the pair of numbers\n",
    "            return (complement, num)\n",
    "        \n",
    "        # Step 5: Record the current number in the set\n",
    "        seen.add(num)\n",
    "    \n",
    "    # Step 6: If no such pair exists, return None\n",
    "    return None\n",
    "\n",
    "arr = [10, 15, 3, 7]\n",
    "K = 17\n",
    "print(find_pair_with_sum(arr, K))"
   ]
  },
  {
   "cell_type": "code",
   "execution_count": null,
   "id": "a01a1aab-e1fe-4f81-9a8f-b06347393592",
   "metadata": {},
   "outputs": [],
   "source": [
    "Explaination:-\n",
    "\n",
    "Initialize the set:\n",
    "\n",
    "seen = set(): Begin with an empty set to track the numbers encountered so far.\n",
    "Iterate through each element:\n",
    "\n",
    "for num in arr: Examine each element in the array sequentially.\n",
    "Calculate the required complement:\n",
    "\n",
    "complement = K - num: Determine the value needed to pair with num to sum up to \n",
    "𝐾\n",
    "K.\n",
    "Check for the complement:\n",
    "\n",
    "if complement in seen: Verify if this required value has already been recorded in the set, indicating that a matching pair is found.\n",
    "Update the set:\n",
    "\n",
    "seen.add(num): Add the current element to the set to track it for future pair searches.\n",
    "Return the result:\n",
    "\n",
    "Return the identified pair if it exists. If no pair is found by the end of the loop, return None."
   ]
  },
  {
   "cell_type": "code",
   "execution_count": null,
   "id": "f0165fd7-5976-48e6-8773-8a064371b4d5",
   "metadata": {},
   "outputs": [],
   "source": [
    "Problem 5 : Given an array of both positive and negative numbers, find two numbers such that their sum is \n",
    "closest to 0. Ex: [ 1 ,60 ,-10, 70, -80,85]. Ans : -80,85."
   ]
  },
  {
   "cell_type": "code",
   "execution_count": 8,
   "id": "90769b5b-d416-4dc5-8864-1e864faf997c",
   "metadata": {},
   "outputs": [
    {
     "name": "stdout",
     "output_type": "stream",
     "text": [
      "(-10, 12)\n"
     ]
    }
   ],
   "source": [
    "def find_closest_sum_pair(arr):\n",
    "    # Step 1: Sort the array to simplify the search for pairs with sums near zero\n",
    "    arr.sort()\n",
    "    \n",
    "    # Set up two pointers\n",
    "    left = 0  # Pointer at the start of the array\n",
    "    right = len(arr) - 1  # Pointer at the end of the array\n",
    "    \n",
    "    # Variables to track the closest sum and the corresponding pair\n",
    "    closest_sum = float('inf')  # Initialize closest_sum to a very large value\n",
    "    best_pair = (None, None)  # Initialize the best pair to placeholders\n",
    "    \n",
    "    # Step 2: Search for the pair with the sum closest to zero\n",
    "    while left < right:\n",
    "        # Compute the sum of the elements at the left and right pointers\n",
    "        current_sum = arr[left] + arr[right]\n",
    "        \n",
    "        # Update the closest sum and best pair if this sum is closer to zero\n",
    "        if abs(current_sum) < abs(closest_sum):\n",
    "            closest_sum = current_sum  # Update the closest sum\n",
    "            best_pair = (arr[left], arr[right])  # Update the best pair\n",
    "        \n",
    "        # Adjust pointers to potentially find a closer sum\n",
    "        if current_sum < 0:\n",
    "            # If the sum is negative, move the left pointer to the right to increase the sum\n",
    "            left += 1\n",
    "        elif current_sum > 0:\n",
    "            # If the sum is positive, move the right pointer to the left to decrease the sum\n",
    "            right -= 1\n",
    "        else:\n",
    "            # If the sum is zero, we have found the closest possible sum\n",
    "            break\n",
    "    \n",
    "    # Step 3: Return the pair with the closest sum to zero\n",
    "    return best_pair\n",
    "\n",
    "arr = [12, 20, -10, 50, -90, 85]\n",
    "print(find_closest_sum_pair(arr))"
   ]
  },
  {
   "cell_type": "code",
   "execution_count": null,
   "id": "29cd49b4-932e-4ac0-a27a-3a49b68a69b5",
   "metadata": {},
   "outputs": [],
   "source": [
    "Explaination:\n",
    "\n",
    "Sort the Array: Arrange the elements in ascending order.\n",
    "\n",
    "Set Up Pointers: Use two pointers, one at the beginning (left) and one at the end (right) of the array.\n",
    "\n",
    "Identify the Closest Sum:\n",
    "\n",
    "Compute the sum of the elements at the pointers.\n",
    "Update the closest sum and the corresponding pair if this sum is closer to zero.\n",
    "Move the pointers to find a sum nearer to zero.\n",
    "Return the Pair: Provide the pair of elements whose sum is the closest to zero."
   ]
  },
  {
   "cell_type": "code",
   "execution_count": null,
   "id": "64ba860f-f2f8-487e-ab43-1fd3b6a30cb6",
   "metadata": {},
   "outputs": [],
   "source": [
    "Problem 6 : Given an array of n elements . Find three elements such that their sum is equal to the given \n",
    "number."
   ]
  },
  {
   "cell_type": "code",
   "execution_count": 9,
   "id": "3c162aba-55b2-4f7d-8cc9-3f0fc17893ea",
   "metadata": {},
   "outputs": [
    {
     "name": "stdout",
     "output_type": "stream",
     "text": [
      "(1, 4, 7)\n"
     ]
    }
   ],
   "source": [
    "def find_three_elements_with_sum(arr, K):\n",
    "    # Step 1: Sort the array in ascending order\n",
    "    arr.sort()  # Sorting helps to efficiently find the triplets with the desired sum.\n",
    "\n",
    "    # Step 2: Iterate through the array, considering each element except the last two\n",
    "    for i in range(len(arr) - 2):\n",
    "        # Initialize pointers\n",
    "        left = i + 1  # Set the left pointer just after the current element\n",
    "        right = len(arr) - 1  # Set the right pointer at the end of the array\n",
    "        \n",
    "        # Step 3: Apply the two-pointer technique to find a pair that, together with arr[i], sums up to K\n",
    "        while left < right:\n",
    "            # Compute the sum of the current triplet\n",
    "            current_sum = arr[i] + arr[left] + arr[right]\n",
    "            \n",
    "            if current_sum == K:\n",
    "                # If the sum is exactly K, return the triplet\n",
    "                return (arr[i], arr[left], arr[right])\n",
    "            elif current_sum < K:\n",
    "                # If the sum is less than K, increment the left pointer to increase the sum\n",
    "                left += 1\n",
    "            else:\n",
    "                # If the sum is greater than K, decrement the right pointer to reduce the sum\n",
    "                right -= 1\n",
    "    \n",
    "    # Step 4: If no triplet is found that meets the requirement, return None\n",
    "    return None\n",
    "\n",
    "# Example usage:\n",
    "arr = [1, 2, 4, 5, 6, 7]\n",
    "K = 12\n",
    "print(find_three_elements_with_sum(arr, K))"
   ]
  },
  {
   "cell_type": "code",
   "execution_count": null,
   "id": "c9b84dc0-3ebd-4eda-b48c-038c4cfc0cd5",
   "metadata": {},
   "outputs": [],
   "source": [
    "Explaination:\n",
    "\n",
    "Sort the Array: Arrange the numbers in ascending order to simplify finding the correct triplet.\n",
    "Utilize Two Pointers: For each number in the array, use two pointers to locate two additional numbers that, along with the current number, sum to the target value K.\n",
    "Adjust Pointers:\n",
    "Shift the left pointer right if the sum is less than K.\n",
    "Shift the right pointer left if the sum is more than K.\n",
    "Return the Triplet: If you find a triplet that adds up to K, return it. \n",
    "Otherwise, return None."
   ]
  },
  {
   "cell_type": "code",
   "execution_count": null,
   "id": "06cdfe94-119a-45a3-ae51-e5447ad1790b",
   "metadata": {},
   "outputs": [],
   "source": [
    "Problem 7 : Given an array of n elements . Find three elements i, j, k in the array such that\n",
    "\n",
    "i * i + j * j = k*k."
   ]
  },
  {
   "cell_type": "code",
   "execution_count": 10,
   "id": "beb2a870-f8fb-476a-82ef-b2480245fe73",
   "metadata": {},
   "outputs": [
    {
     "name": "stdout",
     "output_type": "stream",
     "text": [
      "(3, 4, 5)\n"
     ]
    }
   ],
   "source": [
    "def find_triplet_with_sum_of_squares(arr):\n",
    "    # Step 1: Sort the array in ascending order to facilitate efficient searching\n",
    "    arr.sort()\n",
    "    \n",
    "    # Step 2: Iterate over each element, treating it as the potential hypotenuse 'k'\n",
    "    for k in range(len(arr)):\n",
    "        # Compute the square of the current element 'k'\n",
    "        k_square = arr[k] * arr[k]\n",
    "        \n",
    "        # Set up two pointers to find pairs (i, j) where i^2 + j^2 equals k^2\n",
    "        left = 0  # Start pointer at the beginning of the array\n",
    "        right = k - 1  # End pointer just before the current element 'k'\n",
    "        \n",
    "        # Step 3: Use the two-pointer technique to identify the pair (i, j)\n",
    "        while left < right:\n",
    "            # Determine the sum of squares of the elements at the 'left' and 'right' pointers\n",
    "            sum_of_squares = arr[left] * arr[left] + arr[right] * arr[right]\n",
    "            \n",
    "            if sum_of_squares == k_square:\n",
    "                # If the sum of squares matches k^2, return the triplet (i, j, k)\n",
    "                return (arr[left], arr[right], arr[k])\n",
    "            elif sum_of_squares < k_square:\n",
    "                # If the sum of squares is less than k^2, move the left pointer to the right\n",
    "                left += 1\n",
    "            else:\n",
    "                # If the sum of squares exceeds k^2, move the right pointer to the left\n",
    "                right -= 1\n",
    "    \n",
    "    # Step 4: If no triplet satisfies the condition, return None\n",
    "    return None\n",
    "\n",
    "arr = [3, 4, 5, 6, 8]\n",
    "print(find_triplet_with_sum_of_squares(arr))"
   ]
  },
  {
   "cell_type": "code",
   "execution_count": null,
   "id": "45f5f78c-6f27-4d89-92b5-7a033d0f7747",
   "metadata": {},
   "outputs": [],
   "source": [
    "Sort the Array: Arrange the numbers in ascending order.\n",
    "\n",
    "Process Each Number: Consider each number as k and calculate its square.\n",
    "\n",
    "Utilize Two Pointers: Look for pairs (i, j) where i^2 + j^2 equals k^2, adjusting the pointers as necessary.\n",
    "\n",
    "Output the Triplet: Return the triplet if found; otherwise, return None.\n",
    "\n",
    "\n",
    "\n",
    "\n",
    "\n",
    "\n"
   ]
  },
  {
   "cell_type": "code",
   "execution_count": null,
   "id": "721ca38d-446f-4cb6-914b-a864fca78946",
   "metadata": {},
   "outputs": [],
   "source": [
    "Problem 8 : An element is a majority if it appears more than n/2 times. Give an algorithm takes an array of n \n",
    "element as argument and identifies a majority (if it exists)"
   ]
  },
  {
   "cell_type": "code",
   "execution_count": 11,
   "id": "8b0bea3f-8dd2-4143-a3cc-1719cc0bb3bd",
   "metadata": {},
   "outputs": [
    {
     "name": "stdout",
     "output_type": "stream",
     "text": [
      "4\n"
     ]
    }
   ],
   "source": [
    "def find_majority_element(arr):\n",
    "    # Step 1: Sort the array\n",
    "    arr.sort()  # Sorting arranges all elements in increasing order.\n",
    "\n",
    "    # Step 2: Choose the middle element as the candidate for majority\n",
    "    candidate = arr[len(arr) // 2]  # In a sorted array, the middle element might be the majority.\n",
    "\n",
    "    # Step 3: Check if the candidate is indeed the majority element\n",
    "    count = arr.count(candidate)  # Count how many times the candidate appears in the array.\n",
    "    if count > len(arr) // 2:  # If the candidate appears more than half the length of the array, it is the majority.\n",
    "        return candidate  # Return the majority element.\n",
    "    \n",
    "    # If no element is found to be the majority\n",
    "    return None  # Return None if no element qualifies as the majority.\n",
    "\n",
    "arr = [3, 3, 4, 2, 4, 4, 2, 4, 4]\n",
    "print(find_majority_element(arr))"
   ]
  },
  {
   "cell_type": "code",
   "execution_count": null,
   "id": "5d48619e-bf22-444c-a8a5-d6650b9aaf7d",
   "metadata": {},
   "outputs": [],
   "source": [
    "Explaination:- \n",
    "\n",
    "Sort the Array:\n",
    "\n",
    "arr.sort() puts the numbers in ascending order, simplifying the search for a potential majority element.\n",
    "Select the Middle Element:\n",
    "\n",
    "The middle element of the sorted array (arr[len(arr) // 2]) is chosen as a candidate for the majority because, if a majority element exists, it will be near the center of a sorted list.\n",
    "Validate the Candidate:\n",
    "\n",
    "Count how many times this middle element appears. If its frequency is greater than half the size of the array, it’s the majority element. If not, no majority element exists."
   ]
  },
  {
   "cell_type": "code",
   "execution_count": null,
   "id": "7f270fdb-05f1-4d70-9b13-9eb098cab862",
   "metadata": {},
   "outputs": [],
   "source": [
    "Problem 9 : Given n × n matrix, and in each row all 1’s are followed by 0’s. Find the row with the maximum \n",
    "number of 0’s."
   ]
  },
  {
   "cell_type": "code",
   "execution_count": 12,
   "id": "ef3f87a3-96cb-4896-8442-7b2d5c588824",
   "metadata": {},
   "outputs": [
    {
     "name": "stdout",
     "output_type": "stream",
     "text": [
      "2\n"
     ]
    }
   ],
   "source": [
    "def find_row_with_max_zeros(matrix):\n",
    "    # Determine the number of rows in the matrix\n",
    "    n = len(matrix)\n",
    "    \n",
    "    # Initialize variables to track the highest count of zeros and the row index with that count\n",
    "    max_zeros = -1  # Set to -1 initially to ensure any real count of zeros will be larger\n",
    "    row_with_max_zeros = -1  # This will store the index of the row with the most zeros\n",
    "    \n",
    "    # Examine each row in the matrix\n",
    "    for i in range(n):\n",
    "        # Sort the current row in ascending order\n",
    "        sorted_row = sorted(matrix[i])\n",
    "        \n",
    "        # Count how many zeros are in this sorted row\n",
    "        count_zeros = sorted_row.count(0)\n",
    "        \n",
    "        # Update the max_zeros and row_with_max_zeros if the current row has more zeros\n",
    "        if count_zeros > max_zeros:\n",
    "            max_zeros = count_zeros\n",
    "            row_with_max_zeros = i\n",
    "    \n",
    "    # Return the index of the row that has the maximum number of zeros\n",
    "    return row_with_max_zeros\n",
    "\n",
    "matrix = [\n",
    "    [1, 1, 1, 0, 0],  # 2 zeros\n",
    "    [1, 1, 0, 0, 0],  # 3 zeros\n",
    "    [1, 0, 0, 0, 0]   # 4 zeros\n",
    "]\n",
    "print(find_row_with_max_zeros(matrix))"
   ]
  },
  {
   "cell_type": "code",
   "execution_count": null,
   "id": "f938a79a-25a7-46ac-adbb-c286868503ab",
   "metadata": {},
   "outputs": [],
   "source": [
    "Explaination:\n",
    "\n",
    "Determine Rows: n = len(matrix) provides the total number of rows.\n",
    "Initialize: Set max_zeros and row_with_max_zeros to -1.\n",
    "Process Rows: Iterate over each row.\n",
    "Sort Row: sorted_row = sorted(matrix[i]) arranges the row's elements.\n",
    "Count Zeros: count_zeros = sorted_row.count(0) calculates the zero count.\n",
    "Update: If count_zeros exceeds max_zeros, adjust max_zeros and row_with_max_zeros.\n",
    "Return: return row_with_max_zeros gives the index of the row with the highest zero count.\n",
    "\n",
    "\n",
    "\n",
    "\n",
    "\n"
   ]
  },
  {
   "cell_type": "code",
   "execution_count": null,
   "id": "7c3099e2-0de4-435d-a64f-b316d75ae704",
   "metadata": {},
   "outputs": [],
   "source": [
    "Problem 10 : Sort an array of 0’s, 1’s and 2’s [or R’s, G’s and B’s]: Given an array A[] consisting of 0’s, 1’s and \n",
    "2’s, give an algorithm for sorting A[].The algorithm should put all 0’s first, then all 1’s and finally all 2’s at the \n",
    "end. Example Input = {0,1,1,0,1,2,1,2,0,0,0,1}, Output = {0,0,0,0,0,1,1,1,1,1,2,2}"
   ]
  },
  {
   "cell_type": "code",
   "execution_count": 13,
   "id": "77d550a4-97b3-44cb-bc9b-1746448b4156",
   "metadata": {},
   "outputs": [
    {
     "name": "stdout",
     "output_type": "stream",
     "text": [
      "[0, 0, 0, 0, 0, 1, 1, 1, 1, 1, 2, 2]\n"
     ]
    }
   ],
   "source": [
    "def sort_colors(arr):\n",
    "    # Set up pointers for the beginning, current, and end of the array\n",
    "    low, mid, high = 0, 0, len(arr) - 1\n",
    "    \n",
    "    # Continue sorting while the current pointer is within bounds\n",
    "    while mid <= high:\n",
    "        if arr[mid] == 0:\n",
    "            # Swap the 0 to the start of the array\n",
    "            arr[low], arr[mid] = arr[mid], arr[low]\n",
    "            low += 1  # Move the start pointer rightward\n",
    "            mid += 1  # Move the current pointer rightward\n",
    "        elif arr[mid] == 1:\n",
    "            # 1 is already in its correct place, just move to the next\n",
    "            mid += 1\n",
    "        else:  # arr[mid] == 2\n",
    "            # Swap the 2 to the end of the array\n",
    "            arr[high], arr[mid] = arr[mid], arr[high]\n",
    "            high -= 1  # Move the end pointer leftward\n",
    "            # we need to recheck the swapped element\n",
    "    \n",
    "    return arr\n",
    "\n",
    "arr = [0, 1, 1, 0, 1, 2, 1, 2, 0, 0, 0, 1]\n",
    "print(sort_colors(arr))"
   ]
  },
  {
   "cell_type": "code",
   "execution_count": null,
   "id": "31f0ccc3-5fa0-420c-a0dc-eef0b13c08de",
   "metadata": {},
   "outputs": [],
   "source": [
    "Explaination:\n",
    "\n",
    "Set Pointers:\n",
    "\n",
    "low: Indicates where to place the next 0.\n",
    "mid: Inspects each element in the array.\n",
    "high: Indicates where to place the next 2.\n",
    "Sort the Array:\n",
    "\n",
    "For 0: Swap it to the beginning, then move both low and mid pointers forward.\n",
    "For 1: No action is needed since it's already correctly placed; just advance mid.\n",
    "For 2: Swap it to the end of the array, move the high pointer backward, and keep mid in position to examine the element swapped from the end."
   ]
  }
 ],
 "metadata": {
  "kernelspec": {
   "display_name": "Python 3 (ipykernel)",
   "language": "python",
   "name": "python3"
  },
  "language_info": {
   "codemirror_mode": {
    "name": "ipython",
    "version": 3
   },
   "file_extension": ".py",
   "mimetype": "text/x-python",
   "name": "python",
   "nbconvert_exporter": "python",
   "pygments_lexer": "ipython3",
   "version": "3.10.8"
  }
 },
 "nbformat": 4,
 "nbformat_minor": 5
}
