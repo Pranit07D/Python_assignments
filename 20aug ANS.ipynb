{
 "cells": [
  {
   "cell_type": "code",
   "execution_count": 1,
   "id": "8def5539-e426-486e-8246-54beecf1b0a9",
   "metadata": {},
   "outputs": [
    {
     "data": {
      "text/plain": [
       "['c', 'b', 'A']"
      ]
     },
     "execution_count": 1,
     "metadata": {},
     "output_type": "execute_result"
    }
   ],
   "source": [
    "#1. Write a program to reverse a string\n",
    "b1 = ['A','b','c']\n",
    "b1.sort(reverse=True)\n",
    "b1\n"
   ]
  },
  {
   "cell_type": "code",
   "execution_count": 2,
   "id": "d9421db0-fb1d-48d2-aa9c-61a029d6fc77",
   "metadata": {},
   "outputs": [
    {
     "name": "stdout",
     "output_type": "stream",
     "text": [
      "False\n"
     ]
    }
   ],
   "source": [
    "#2. Check if a string is a palindrome\n",
    "def is_palindrome(s):\n",
    "    # Convert the string to lowercase to ensure case-insensitive comparison\n",
    "    s = s.lower()\n",
    "\n",
    "    # Remove spaces and punctuation from the string\n",
    "    s = ''.join(e for e in s if e.isalnum())\n",
    "\n",
    "    # Compare the original string with its reverse\n",
    "    return s == s[::-1]\n",
    "    print(is_palindrome(\"lol\"))\n",
    "print(is_palindrome(\"hello\"))"
   ]
  },
  {
   "cell_type": "code",
   "execution_count": 3,
   "id": "67acbfb2-612d-4479-8f0c-97bb1a4d0667",
   "metadata": {},
   "outputs": [
    {
     "name": "stdout",
     "output_type": "stream",
     "text": [
      "HELLO BUDDY\n"
     ]
    }
   ],
   "source": [
    "#3. Convert a string to uppercase.\n",
    "p = \"Hello buddy\"\n",
    "\n",
    "q = p.upper()\n",
    "\n",
    "print(q)\n",
    "    "
   ]
  },
  {
   "cell_type": "code",
   "execution_count": 4,
   "id": "9d98e79e-16d6-464f-b1f8-590d1937e5ab",
   "metadata": {},
   "outputs": [
    {
     "name": "stdout",
     "output_type": "stream",
     "text": [
      "my name is pranit\n"
     ]
    }
   ],
   "source": [
    "#4. Convert a string to lowercase.\n",
    "s = \"MY NAME IS PRANIT\"\n",
    "#take a input\n",
    "print(s.lower())\n",
    "#use a lower function and print it\n",
    "    "
   ]
  },
  {
   "cell_type": "code",
   "execution_count": 4,
   "id": "45156d4e-af05-40b4-a96d-c38da52c6dd1",
   "metadata": {},
   "outputs": [
    {
     "name": "stdin",
     "output_type": "stream",
     "text": [
      "Enter the string : pranit\n"
     ]
    },
    {
     "name": "stdout",
     "output_type": "stream",
     "text": [
      "Total vowels are :2\n"
     ]
    }
   ],
   "source": [
    "#5. Count the number of vowels in a string.\n",
    "#take user input\n",
    "String = input('Enter the string :')\n",
    "count = 0\n",
    "#to check for less conditions\n",
    "String = String.lower()\n",
    "for i in String:\n",
    "    if i == 'a' or i == 'e' or i == 'i' or i == 'o' or i == 'u':\n",
    "        #if True\n",
    "        count+=1\n",
    "#check if any vowel are there\n",
    "if count == 0:\n",
    "    print('No vowels found')\n",
    "else:\n",
    "    print('Total vowels are :' + str(count))\n",
    "    "
   ]
  },
  {
   "cell_type": "code",
   "execution_count": 5,
   "id": "f8b337a4-85b7-4656-b90c-fdfae378651e",
   "metadata": {},
   "outputs": [
    {
     "name": "stdin",
     "output_type": "stream",
     "text": [
      "Enter a string:  ptdefhsheu\n"
     ]
    },
    {
     "name": "stdout",
     "output_type": "stream",
     "text": [
      "The number of consonant: 7\n"
     ]
    }
   ],
   "source": [
    "#6. Count the number of consonants in a string.\n",
    " \n",
    "consonants=0\n",
    "\n",
    "# Enter an input string \n",
    "user_input = input(\"Enter a string: \")\n",
    " \n",
    "# convert string in case insensitive\n",
    "string = user_input.lower()\n",
    " \n",
    "for i in range(0,len(string)):  \n",
    "    if string[i] not in ('a',\"e\",\"i\",\"o\",\"u\"):  \n",
    "        consonants = consonants + 1;  \n",
    " \n",
    "print(\"The number of consonant:\",consonants);\n",
    "\n",
    "    \n"
   ]
  },
  {
   "cell_type": "code",
   "execution_count": 18,
   "id": "9ad2f33b-9352-409e-86c1-2dcc630e8479",
   "metadata": {},
   "outputs": [
    {
     "name": "stdout",
     "output_type": "stream",
     "text": [
      "pranit\n"
     ]
    }
   ],
   "source": [
    "#7. Remove all whitespaces from a string.\n",
    "\n",
    "# Python3 code to remove whitespace\n",
    "def remove(string):\n",
    "    return string.replace(\" \", \"\")\n",
    " \n",
    "string = ' p r a ni t '\n",
    "#enter a string\n",
    "print(remove(string))\n",
    " "
   ]
  },
  {
   "cell_type": "code",
   "execution_count": 21,
   "id": "0dec3648-7421-42c8-be72-d26c0ecf0bac",
   "metadata": {},
   "outputs": [
    {
     "name": "stdout",
     "output_type": "stream",
     "text": [
      "7\n"
     ]
    }
   ],
   "source": [
    "#8. Find the length of a string without using the `len()` function.\n",
    "\n",
    "string = 'fathers'\n",
    "\n",
    "count = 0\n",
    "\n",
    "for i in string:\n",
    " \n",
    "    count+=1\n",
    "print(count)"
   ]
  },
  {
   "cell_type": "code",
   "execution_count": 23,
   "id": "af97c70e-522a-45bd-ba1d-4142f45a7413",
   "metadata": {},
   "outputs": [
    {
     "name": "stdin",
     "output_type": "stream",
     "text": [
      "enter the string:  pranitgdgdhhh\n",
      "Enter the specific word to check for:  joker\n"
     ]
    },
    {
     "name": "stdout",
     "output_type": "stream",
     "text": [
      "The string does not contain the word '{specific_word}'.\n"
     ]
    }
   ],
   "source": [
    "#9. Check if a string contains a specific word\n",
    "\n",
    "# enter the string\n",
    "input_string = input(\"enter the string: \")\n",
    "specific_word = input(\"Enter the specific word to check for: \")\n",
    "\n",
    "# Step 2: Checking the specific word is present in the string by using the 'in' keyword\n",
    "if specific_word in input_string:\n",
    "    # Step 3: Print message if word is present\n",
    "    print(\"The string contains the word '{specific_word}'.\")\n",
    "else:\n",
    "    # Step 3: Print message if word is not present\n",
    "    print(\"The string does not contain the word '{specific_word}'.\")"
   ]
  },
  {
   "cell_type": "code",
   "execution_count": 25,
   "id": "ec7ad0da-2bcc-401e-9f26-745b3ecfb536",
   "metadata": {},
   "outputs": [
    {
     "name": "stdout",
     "output_type": "stream",
     "text": [
      "I like cars\n"
     ]
    }
   ],
   "source": [
    "#10. Replace a word in a string with another word.\n",
    "txt = \"I like bikes\"\n",
    "\n",
    "x = txt.replace(\"bikes\", \"cars\")\n",
    "\n",
    "print(x)"
   ]
  },
  {
   "cell_type": "code",
   "execution_count": 26,
   "id": "61baa8ea-6ba3-41c8-86e7-1606445ea2b2",
   "metadata": {},
   "outputs": [
    {
     "name": "stdout",
     "output_type": "stream",
     "text": [
      "1\n"
     ]
    }
   ],
   "source": [
    "#11. Count the occurrences of a word in a string.\n",
    "\n",
    "def countOccurrences(str, word):\n",
    "     \n",
    "    # split the string by spaces in a\n",
    "    a = str.split(\" \")\n",
    " \n",
    "    # search for pattern in a\n",
    "    count = 0\n",
    "    for i in range(0, len(a)):\n",
    "         \n",
    "        # if match found increase count \n",
    "        if (word == a[i]):\n",
    "           count = count + 1\n",
    "            \n",
    "    return count       \n",
    " \n",
    "# Driver code\n",
    "str =\"my fev car is lamborgini \"\n",
    "word =\"car\"\n",
    "print(countOccurrences(str, word))"
   ]
  },
  {
   "cell_type": "code",
   "execution_count": 12,
   "id": "d11d9eb9-25b9-4c32-9cbd-8e8defad0b93",
   "metadata": {},
   "outputs": [
    {
     "name": "stdout",
     "output_type": "stream",
     "text": [
      "2\n"
     ]
    }
   ],
   "source": [
    "#12. Find the first occurrence of a word in a string.\n",
    " \n",
    "word = 'i like bikes like'\n",
    "print(word.find('like'))\n",
    "    "
   ]
  },
  {
   "cell_type": "code",
   "execution_count": 10,
   "id": "0eea3ab2-b667-410c-90b7-ce196ba5fba8",
   "metadata": {},
   "outputs": [
    {
     "name": "stdout",
     "output_type": "stream",
     "text": [
      "13\n"
     ]
    }
   ],
   "source": [
    "#13. Find the last occurrence of a word in a string.\n",
    "\n",
    "word = 'i likes cars cars'\n",
    "print(word.rfind('cars'))"
   ]
  },
  {
   "cell_type": "code",
   "execution_count": 27,
   "id": "866ff020-4e79-4eab-aeef-1212516302d9",
   "metadata": {},
   "outputs": [
    {
     "name": "stdout",
     "output_type": "stream",
     "text": [
      "['welcome', 'to', 'india']\n"
     ]
    }
   ],
   "source": [
    "#14. Split a string into a list of words.\n",
    "\n",
    "string = \"welcome,to,india\"\n",
    "\n",
    "x = string.split(',')\n",
    "\n",
    "print(x)"
   ]
  },
  {
   "cell_type": "code",
   "execution_count": 33,
   "id": "48f48a13-626a-4a02-bbd4-5896aa392aac",
   "metadata": {},
   "outputs": [
    {
     "name": "stdout",
     "output_type": "stream",
     "text": [
      "playcricketonhfhf\n"
     ]
    }
   ],
   "source": [
    "#15. Join a list of words into a string.\n",
    "\n",
    "words = \"play\"'cricket''on''hfhf'\n",
    "x = (\"\".join(words))\n",
    "print(x)"
   ]
  },
  {
   "cell_type": "code",
   "execution_count": 3,
   "id": "4c98734b-1a90-4a7a-b482-28d355169ff0",
   "metadata": {},
   "outputs": [
    {
     "name": "stdout",
     "output_type": "stream",
     "text": [
      "i_like_sport_bikes_made_in_japan\n"
     ]
    }
   ],
   "source": [
    "#16. Convert a string where words are separated by spaces to one where words\n",
    "#are separated by underscores.\n",
    "\n",
    "str = \"i like sport bikes made in japan\"\n",
    "str = str.replace(\" \",\"_\")\n",
    "print(str)"
   ]
  },
  {
   "cell_type": "code",
   "execution_count": 5,
   "id": "eab10f9d-c61e-4abd-8965-7a31c7425ffa",
   "metadata": {},
   "outputs": [
    {
     "name": "stdout",
     "output_type": "stream",
     "text": [
      "True\n",
      "False\n"
     ]
    }
   ],
   "source": [
    "#17. Check if a string starts with a specific word or phrase\n",
    "\n",
    "var = \"i like sportcars\"\n",
    " \n",
    "print(var.startswith(\"i\"))\n",
    "print(var.startswith(\"Hello\"))"
   ]
  },
  {
   "cell_type": "code",
   "execution_count": 4,
   "id": "b39000b1-1f07-4530-b717-8d5fa75df428",
   "metadata": {},
   "outputs": [
    {
     "name": "stdout",
     "output_type": "stream",
     "text": [
      "True\n"
     ]
    }
   ],
   "source": [
    "#18. Check if a string ends with a specific word or phrase.\n",
    "\n",
    "str = \"Hello, welcome to my world\"\n",
    "\n",
    "x = str.endswith(\"world\")\n",
    "\n",
    "print(x)"
   ]
  },
  {
   "cell_type": "code",
   "execution_count": 10,
   "id": "2e5f3cb6-035e-4d21-8cd1-dd5ba17915ce",
   "metadata": {},
   "outputs": [
    {
     "name": "stdout",
     "output_type": "stream",
     "text": [
      "Hello My Name Is Cc\n"
     ]
    }
   ],
   "source": [
    "#19. Convert a string to title case (e.g., \"hello world\" to \"Hello World\").19. Convert a string to title case (e.g., \"hello world\" to \"Hello World\").\n",
    "\n",
    "str = \"hello my name is cc\"\n",
    "\n",
    "x = str.title()\n",
    "\n",
    "print(x)\n",
    "\n"
   ]
  },
  {
   "cell_type": "code",
   "execution_count": null,
   "id": "4036805e-a183-498a-a769-9ee96ea85789",
   "metadata": {},
   "outputs": [
    {
     "name": "stdin",
     "output_type": "stream",
     "text": [
      "Enter a String:  my name is praniy\n"
     ]
    },
    {
     "name": "stdout",
     "output_type": "stream",
     "text": [
      "Longest word:  praniy\n"
     ]
    }
   ],
   "source": [
    "#20. Find the longest word in a string\n",
    "\n",
    "# Read input string\n",
    "str = input(\"Enter a String: \")\n",
    "# Split the string to a list of words\n",
    "word_list = str.split()\n",
    "# Find the longest word\n",
    "longest_word = max(word_list, key = len)\n",
    "# Find the position (index) of longest word\n",
    "pos = str.index(longest_word)\n",
    "# Print the longest word and it's position\n",
    "print(\"Longest word: \",longest_word)\n",
    "\n"
   ]
  },
  {
   "cell_type": "code",
   "execution_count": 15,
   "id": "7fcf6b63-f2f4-4c1f-ad9d-9c6c0ec7a0b9",
   "metadata": {},
   "outputs": [
    {
     "name": "stdin",
     "output_type": "stream",
     "text": [
      "Enter a String:   my name is \n"
     ]
    },
    {
     "name": "stdout",
     "output_type": "stream",
     "text": [
      "Longest word:  my\n"
     ]
    }
   ],
   "source": [
    "#21. Find the shortest word in a string\n",
    "\n",
    "str = input(\"Enter a String: \")\n",
    "# Split the string to a list of words\n",
    "word_list = str.split()\n",
    "# Find the longest word\n",
    "sho_word = min(word_list, key = len)\n",
    "# Find the position (index) of longest word\n",
    "pos = str.index(shortest_word)\n",
    "# Print the longest word and it's position\n",
    "print(\"shortest word: \",shortest_word)"
   ]
  },
  {
   "cell_type": "code",
   "execution_count": 3,
   "id": "e7cc1c20-a3f5-465e-aefd-a555653c9a2e",
   "metadata": {},
   "outputs": [
    {
     "name": "stdin",
     "output_type": "stream",
     "text": [
      "enter a string:  jhcsh hyicds husdhu\n"
     ]
    },
    {
     "name": "stdout",
     "output_type": "stream",
     "text": [
      "husdhu hyicds jhcsh\n"
     ]
    }
   ],
   "source": [
    "#22. Reverse the order of words in a string\n",
    "\n",
    "string = input(\"enter a string: \")\n",
    "\n",
    "\n",
    "\n",
    "# input string\n",
    "\n",
    "# reversing words in a given string\n",
    "s = string.split()[::-1]\n",
    "l = []\n",
    "for i in s:\n",
    "    # appending reversed words to l\n",
    "    l.append(i)\n",
    "# printing reverse words\n",
    "print(\" \".join(l))\n"
   ]
  },
  {
   "cell_type": "code",
   "execution_count": 8,
   "id": "f4959c6c-0ea7-4470-8c7b-9abb26cb7b35",
   "metadata": {},
   "outputs": [
    {
     "name": "stdin",
     "output_type": "stream",
     "text": [
      "enter a string:  hfh\n"
     ]
    },
    {
     "name": "stdout",
     "output_type": "stream",
     "text": [
      "True\n"
     ]
    }
   ],
   "source": [
    "#23. Check if a string is alphanumeric.\n",
    "\n",
    "string = input(\"enter a string: \")\n",
    "\n",
    "s = string.isalnum()\n",
    "l=[]\n",
    "print(s)"
   ]
  },
  {
   "cell_type": "code",
   "execution_count": 4,
   "id": "6a944ab3-39b5-4d11-8e4b-812b39c0eff4",
   "metadata": {},
   "outputs": [
    {
     "name": "stdout",
     "output_type": "stream",
     "text": [
      "Extracted digits: 123\n"
     ]
    }
   ],
   "source": [
    "#24. Extract all digits from a string.\n",
    "\n",
    "string = \"pranit123\"\n",
    "extracted_digits = extract_digits(string)\n",
    "print(\"Extracted digits:\", extracted_digits)"
   ]
  },
  {
   "cell_type": "code",
   "execution_count": 15,
   "id": "6e4623fa-2810-4b61-b5aa-2fb28f78e6ff",
   "metadata": {},
   "outputs": [
    {
     "name": "stdout",
     "output_type": "stream",
     "text": [
      "p r a n i t\n"
     ]
    }
   ],
   "source": [
    "#25. Extract all alphabets from a string.\n",
    "\n",
    "def extract_alphabets(input_string):\n",
    "    alphabets = ' '.join([char for char in input_string if char.isalpha()])\n",
    "    return alphabets\n",
    "\n",
    "# Example input string\n",
    "input_string = \"pranit54456\"\n",
    "result = extract_alphabets(input_string)\n",
    "print(result)"
   ]
  },
  {
   "cell_type": "code",
   "execution_count": 18,
   "id": "12facebc-aa24-4a91-ab4e-c98f414b5cf1",
   "metadata": {},
   "outputs": [
    {
     "name": "stdout",
     "output_type": "stream",
     "text": [
      "P P P\n"
     ]
    }
   ],
   "source": [
    "#26. Count the number of uppercase letters in a string.\n",
    "def extract_uppercaseaplabets(input_string):\n",
    "    alphabets = ' '.join([char for char in input_string if char.isupper()])\n",
    "    return alphabets\n",
    "\n",
    "input_string = \"PPPjjjjjs90 \"\n",
    "result = extract_uppercaseaplabets(input_string)\n",
    "print(result)\n"
   ]
  },
  {
   "cell_type": "code",
   "execution_count": 21,
   "id": "30225ab8-0e2b-4cf9-a925-aa34d27c02cf",
   "metadata": {},
   "outputs": [
    {
     "name": "stdout",
     "output_type": "stream",
     "text": [
      "j j j j j s\n"
     ]
    }
   ],
   "source": [
    "#27. Count the number of lowercase letters in a string.\n",
    "\n",
    "def extract_lowercaseaplabets(input_string):\n",
    "    alphabets = ' '.join([char for char in input_string if char.islower()])\n",
    "    return alphabets\n",
    "\n",
    "input_string = \"PPPjjjjjs90 \"\n",
    "result = extract_lowercaseaplabets(input_string)\n",
    "print(result)\n"
   ]
  },
  {
   "cell_type": "code",
   "execution_count": 23,
   "id": "afa809a0-7a45-4ee6-8918-a13c87742ef9",
   "metadata": {},
   "outputs": [
    {
     "name": "stdout",
     "output_type": "stream",
     "text": [
      "PrAnIt\n"
     ]
    }
   ],
   "source": [
    "#28. Swap the case of each character in a string.\n",
    "\n",
    "string = \"pRaNiT\"\n",
    "result = string.swapcase()\n",
    "print(result)"
   ]
  },
  {
   "cell_type": "code",
   "execution_count": 25,
   "id": "679eeae7-0230-4dd8-abd2-0c0017d0cfcb",
   "metadata": {},
   "outputs": [
    {
     "ename": "AttributeError",
     "evalue": "'str' object has no attribute 'remove'",
     "output_type": "error",
     "traceback": [
      "\u001b[0;31m---------------------------------------------------------------------------\u001b[0m",
      "\u001b[0;31mAttributeError\u001b[0m                            Traceback (most recent call last)",
      "Cell \u001b[0;32mIn[25], line 4\u001b[0m\n\u001b[1;32m      1\u001b[0m \u001b[38;5;66;03m#29 Remove a specific word from a string.\u001b[39;00m\n\u001b[1;32m      3\u001b[0m string \u001b[38;5;241m=\u001b[39m \u001b[38;5;124m\"\u001b[39m\u001b[38;5;124mi like cars\u001b[39m\u001b[38;5;124m\"\u001b[39m\n\u001b[0;32m----> 4\u001b[0m result \u001b[38;5;241m=\u001b[39m \u001b[43mstring\u001b[49m\u001b[38;5;241;43m.\u001b[39;49m\u001b[43mremove\u001b[49m(like)\n",
      "\u001b[0;31mAttributeError\u001b[0m: 'str' object has no attribute 'remove'"
     ]
    }
   ],
   "source": [
    "#29 Remove a specific word from a string.\n",
    "\n",
    "string = \"i like cars\"\n",
    "result = string.remove(like)\n"
   ]
  },
  {
   "cell_type": "code",
   "execution_count": null,
   "id": "74e36443-2187-427b-8ab2-b74470c1bfd3",
   "metadata": {},
   "outputs": [],
   "source": []
  }
 ],
 "metadata": {
  "kernelspec": {
   "display_name": "Python 3 (ipykernel)",
   "language": "python",
   "name": "python3"
  },
  "language_info": {
   "codemirror_mode": {
    "name": "ipython",
    "version": 3
   },
   "file_extension": ".py",
   "mimetype": "text/x-python",
   "name": "python",
   "nbconvert_exporter": "python",
   "pygments_lexer": "ipython3",
   "version": "3.10.8"
  }
 },
 "nbformat": 4,
 "nbformat_minor": 5
}
