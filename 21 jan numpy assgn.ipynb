{
 "cells": [
  {
   "cell_type": "code",
   "execution_count": 3,
   "id": "e3d77416-6193-4873-89c0-55691c87c319",
   "metadata": {},
   "outputs": [],
   "source": [
    "import numpy as np"
   ]
  },
  {
   "cell_type": "raw",
   "id": "0204847d-b1f6-42e1-8620-a4b4c611ed7e",
   "metadata": {},
   "source": [
    "1. What is a Python library? Why do we use Python libraries?"
   ]
  },
  {
   "cell_type": "raw",
   "id": "19add89f-4a92-4f0c-8616-f157f65b15b6",
   "metadata": {},
   "source": [
    "Ans:- A Python library consists of pre-written code that developers can utilize to handle common tasks more efficiently. \n",
    "      These libraries offer various modules and functions that simplify the coding process, allowing developers to use existing solutions instead of starting from scratch.\n",
    "\n",
    "    Reasons for Using Python Libraries:\n",
    "    Efficiency: They save time by providing pre-built functions and modules.\n",
    "    Reliability: Libraries are typically well-tested and maintained by the community, reducing the chances of bugs.\n",
    "    Managing Complexity: They help manage complexity by packaging functionality into clean, reusable components.\n",
    "    Focus on Core Issues: Utilizing libraries allows developers to concentrate on solving higher-level problems specific to their projects, rather than redoing foundational work.\n",
    "    Community and Support: Widely-used libraries come with extensive documentation, community support, and examples, making development easier."
   ]
  },
  {
   "cell_type": "raw",
   "id": "cc932632-9879-45ad-8bf1-2eae64f24cf7",
   "metadata": {},
   "source": [
    "2. What is the difference between Numpy array and List?"
   ]
  },
  {
   "cell_type": "raw",
   "id": "03f373f6-0f36-4c3c-b335-25d7dcf1c87f",
   "metadata": {},
   "source": [
    "Ans:- NumPy arrays and Python lists both serve the purpose of storing collections of data, but they differ in several significant ways:\n",
    "\n",
    "NumPy Array:\n",
    "i.Homogeneous: Every element in a NumPy array must be of the same data type (e.g., all integers or all floats).\n",
    "ii.Performance: NumPy arrays are more efficient regarding speed and memory usage due to their implementation in C and optimization for numerical operations.\n",
    "iii.Functionality: They come with a wide array of built-in functions for numerical tasks, including mathematical operations, linear algebra, and statistics.\n",
    "iv. Multi-dimensional: NumPy arrays can be multi-dimensional (e.g., 2D, 3D arrays), which is useful for matrix operations and handling higher-dimensional data.\n",
    "v.Fixed Size: Once created, the size of a NumPy array cannot be altered.\n",
    "\n",
    "Python List:\n",
    "i.Heterogeneous: A list can contain elements of varying data types (e.g., integers, floats, strings).\n",
    "ii.Flexibility: Lists are more versatile in operations and can be resized easily by adding or removing elements.\n",
    "iii.General-Purpose: Lists are a core part of Python and are suited for a wide range of tasks beyond numerical computations.\n",
    "iv.Less Efficient: Compared to NumPy arrays, operations on lists are generally slower and consume more memory, especially with large datasets.\n",
    "v.Single-dimensional: While lists can include other lists to create multi-level structures, this approach is less efficient and intuitive than using NumPy's multi-dimensional arrays for numerical tasks."
   ]
  },
  {
   "cell_type": "raw",
   "id": "f53329d5-0aeb-483b-9422-a01ffcc326b6",
   "metadata": {},
   "source": [
    "#3. Find the shape, size and dimension of the following array?\n",
    "#[[1, 2, 3, 4]\n",
    "#[5, 6, 7, 8],\n",
    "#[9, 10, 11, 12]]\n"
   ]
  },
  {
   "cell_type": "code",
   "execution_count": 4,
   "id": "8e1bda30-b353-4c80-9251-73486e1c9453",
   "metadata": {},
   "outputs": [],
   "source": [
    "a = [[1, 2, 3, 4],[5, 6, 7, 8],[9, 10, 11, 12]]\n",
    "\n",
    "arr1 = np.array(a)\n",
    "\n"
   ]
  },
  {
   "cell_type": "code",
   "execution_count": 7,
   "id": "5a3856b4-b0f5-4c00-8157-d518610cdff4",
   "metadata": {},
   "outputs": [
    {
     "data": {
      "text/plain": [
       "12"
      ]
     },
     "execution_count": 7,
     "metadata": {},
     "output_type": "execute_result"
    }
   ],
   "source": [
    "arr1.size\n"
   ]
  },
  {
   "cell_type": "code",
   "execution_count": 17,
   "id": "aa7da824-2fc6-4ef6-88b9-dd8597fe1772",
   "metadata": {},
   "outputs": [
    {
     "data": {
      "text/plain": [
       "2"
      ]
     },
     "execution_count": 17,
     "metadata": {},
     "output_type": "execute_result"
    }
   ],
   "source": [
    "arr1.ndim"
   ]
  },
  {
   "cell_type": "code",
   "execution_count": 18,
   "id": "108a13bc-ee45-47d8-a53f-cb1789649608",
   "metadata": {},
   "outputs": [
    {
     "data": {
      "text/plain": [
       "(3, 4)"
      ]
     },
     "execution_count": 18,
     "metadata": {},
     "output_type": "execute_result"
    }
   ],
   "source": [
    "arr1.shape"
   ]
  },
  {
   "cell_type": "raw",
   "id": "31bf3a7f-de90-4d4f-a172-dc9d26df55c5",
   "metadata": {},
   "source": [
    "4. Write python code to access the first row of the following array?\n",
    "\n",
    "[[1, 2, 3, 4]\n",
    "\n",
    "[5, 6, 7, 8],\n",
    "\n",
    "[9, 10, 11, 12]]"
   ]
  },
  {
   "cell_type": "code",
   "execution_count": 8,
   "id": "bf1fdf84-38aa-4ba9-a1f5-fd69fb218bd7",
   "metadata": {},
   "outputs": [],
   "source": [
    "b = [[1, 2, 3, 4],[5, 6, 7, 8],[9, 10, 11, 12]]\n",
    "arr2 = np.array(b)"
   ]
  },
  {
   "cell_type": "code",
   "execution_count": 9,
   "id": "b41ed1f2-c1a6-418b-a9b8-6038d5f5a67c",
   "metadata": {},
   "outputs": [
    {
     "data": {
      "text/plain": [
       "array([1, 2, 3, 4])"
      ]
     },
     "execution_count": 9,
     "metadata": {},
     "output_type": "execute_result"
    }
   ],
   "source": [
    "arr2[0]"
   ]
  },
  {
   "cell_type": "raw",
   "id": "9c6d3fbb-e471-418c-8b22-119e51e3a41f",
   "metadata": {},
   "source": [
    "5. How do you access the element at the third row and fourth column from the given numpy array?\n",
    "\n",
    "[[1, 2, 3, 4]\n",
    "\n",
    "[5, 6, 7, 8],\n",
    "\n",
    "[9, 10, 11, 12]]"
   ]
  },
  {
   "cell_type": "code",
   "execution_count": 10,
   "id": "43aad0b6-3d3b-4298-b852-77357571ab28",
   "metadata": {},
   "outputs": [],
   "source": [
    "i = [[1, 2, 3, 4],\n",
    "     [5, 6, 7, 8],\n",
    "     [9, 10, 11, 12]]\n",
    "arr3 = np.array(i)\n"
   ]
  },
  {
   "cell_type": "code",
   "execution_count": 11,
   "id": "2f65675c-7a14-417d-99aa-d96614f857a2",
   "metadata": {},
   "outputs": [
    {
     "data": {
      "text/plain": [
       "array([[12]])"
      ]
     },
     "execution_count": 11,
     "metadata": {},
     "output_type": "execute_result"
    }
   ],
   "source": [
    "arr3[2:3, [3]]"
   ]
  },
  {
   "cell_type": "raw",
   "id": "202312c7-01a4-42c8-a14b-0b9377c2dd5a",
   "metadata": {},
   "source": [
    "6. Write code to extract all odd-indexed elements from the given numpy array?\n",
    "\n",
    "[[1, 2, 3, 4]\n",
    "\n",
    "[5, 6, 7, 8],\n",
    "\n",
    "[9, 10, 11, 12]]"
   ]
  },
  {
   "cell_type": "code",
   "execution_count": 12,
   "id": "8340ee12-d9a0-45b3-8605-da509464dc53",
   "metadata": {},
   "outputs": [],
   "source": [
    "e = [[1, 2, 3, 4],\n",
    "     [5, 6, 7, 8],\n",
    "     [9, 10, 11, 12]]\n",
    "arr4 = np.array(e)"
   ]
  },
  {
   "cell_type": "code",
   "execution_count": 13,
   "id": "aaaa2166-0b41-4279-a765-13ca9fbb8f08",
   "metadata": {},
   "outputs": [
    {
     "data": {
      "text/plain": [
       "array([ 1,  3,  5,  7,  9, 11])"
      ]
     },
     "execution_count": 13,
     "metadata": {},
     "output_type": "execute_result"
    }
   ],
   "source": [
    "arr4[arr4 % 2 == 1]"
   ]
  },
  {
   "cell_type": "raw",
   "id": "69c0e533-d9b0-435e-9cf6-9641817681e5",
   "metadata": {},
   "source": [
    "7. How can you generate a random 3x3 matrix with values between 0 and 1?\n"
   ]
  },
  {
   "cell_type": "code",
   "execution_count": 14,
   "id": "4e5359f9-6d14-4659-ad13-6fb4f4d62152",
   "metadata": {},
   "outputs": [
    {
     "data": {
      "text/plain": [
       "array([[0.34578729, 0.37144563, 0.264094  ],\n",
       "       [0.23639491, 0.52604719, 0.21629967],\n",
       "       [0.25512968, 0.96422619, 0.2745196 ]])"
      ]
     },
     "execution_count": 14,
     "metadata": {},
     "output_type": "execute_result"
    }
   ],
   "source": [
    "np.random.rand(3, 3)"
   ]
  },
  {
   "cell_type": "raw",
   "id": "8180eb92-9915-4a6f-9f18-54b351a4faf6",
   "metadata": {},
   "source": [
    "8. Describe the difference between np.random.rand and np.random.randn?"
   ]
  },
  {
   "cell_type": "code",
   "execution_count": null,
   "id": "5d8a9d94-8801-44e2-8829-bd16f11dae9f",
   "metadata": {},
   "outputs": [],
   "source": []
  },
  {
   "cell_type": "raw",
   "id": "a68f0b9c-1377-4d4b-9cd8-f5ed79f52de8",
   "metadata": {},
   "source": [
    "9. Write code to increase the dimension of the following array?\n",
    "\n",
    "[[1, 2, 3, 4]\n",
    "\n",
    "[5, 6, 7, 8],\n",
    "\n",
    "[9, 10, 11, 12]]"
   ]
  },
  {
   "cell_type": "code",
   "execution_count": 15,
   "id": "94b6a157-6456-4b4e-8666-c7439405fa39",
   "metadata": {},
   "outputs": [],
   "source": [
    "s =     [[1, 2, 3, 4],\n",
    "        [5, 6, 7, 8],\n",
    "        [9, 10, 11, 12]]\n",
    "arr5 = np.array(s)"
   ]
  },
  {
   "cell_type": "code",
   "execution_count": 16,
   "id": "b0fcf727-5831-4101-9575-8a107ef60129",
   "metadata": {},
   "outputs": [],
   "source": [
    "arr6 = np.expand_dims(arr5, axis = 0)"
   ]
  },
  {
   "cell_type": "code",
   "execution_count": 17,
   "id": "5fb33d98-826c-4b9d-a14f-cae3f1afa062",
   "metadata": {},
   "outputs": [
    {
     "data": {
      "text/plain": [
       "3"
      ]
     },
     "execution_count": 17,
     "metadata": {},
     "output_type": "execute_result"
    }
   ],
   "source": [
    "arr6.ndim"
   ]
  },
  {
   "cell_type": "raw",
   "id": "d003b422-7cc8-43fd-919f-4fbb6305d766",
   "metadata": {},
   "source": [
    "10. How to transpose the following array in NumPy?\n",
    "\n",
    "[[1, 2, 3, 4]\n",
    "\n",
    "[5, 6, 7, 8],\n",
    "\n",
    "[9, 10, 11, 12]]"
   ]
  },
  {
   "cell_type": "code",
   "execution_count": 18,
   "id": "6bc1f8cd-2577-4109-8dfb-75f7bdff3c57",
   "metadata": {},
   "outputs": [
    {
     "data": {
      "text/plain": [
       "array([[ 1,  5,  9],\n",
       "       [ 2,  6, 10],\n",
       "       [ 3,  7, 11],\n",
       "       [ 4,  8, 12]])"
      ]
     },
     "execution_count": 18,
     "metadata": {},
     "output_type": "execute_result"
    }
   ],
   "source": [
    "i = [[1, 2, 3, 4],\n",
    "     [5, 6, 7, 8],\n",
    "    [9, 10, 11, 12]]\n",
    "\n",
    "arr5 = np.array(i)\n",
    "arr5.T"
   ]
  },
  {
   "cell_type": "raw",
   "id": "9d0325be-9423-4808-92d6-fdd9370bbe84",
   "metadata": {},
   "source": [
    "11. Consider the following matrix:\n",
    "\n",
    "Matrix A: [[1, 2, 3, 4] [5, 6, 7, 8],[9, 10, 11, 12]]\n",
    "\n",
    "Matrix B: [[1, 2, 3, 4] [5, 6, 7, 8],[9, 10, 11, 12]]\n",
    "\n",
    "Perform the following operation using Python1\n",
    "1]Index wise multiplication\n",
    "2] Matrix multiplication\n",
    "3] Add both the matricx\n",
    "4] Subtract matrix B from A\n",
    "5] Divide Matrix B by A\n"
   ]
  },
  {
   "cell_type": "code",
   "execution_count": 19,
   "id": "2fbca524-74af-495f-bb15-c84c7681b84a",
   "metadata": {},
   "outputs": [],
   "source": [
    "a = [[1, 2, 3, 4], \n",
    "     [5, 6, 7, 8],\n",
    "     [9, 10, 11, 12]]\n",
    "\n",
    "arr6 = np.array(a)\n",
    "\n",
    "b = [[1, 2, 3, 4],\n",
    "     [5, 6, 7, 8],\n",
    "     [9, 10, 11, 12]]\n",
    "arr7 = np.array(b)\n"
   ]
  },
  {
   "cell_type": "code",
   "execution_count": 20,
   "id": "979ee188-c1fc-40d3-8341-a8ebccad250a",
   "metadata": {},
   "outputs": [
    {
     "data": {
      "text/plain": [
       "array([[  1,   4,   9,  16],\n",
       "       [ 25,  36,  49,  64],\n",
       "       [ 81, 100, 121, 144]])"
      ]
     },
     "execution_count": 20,
     "metadata": {},
     "output_type": "execute_result"
    }
   ],
   "source": [
    "#1]Index wise multiplication\n",
    "\n",
    "arr6*arr7"
   ]
  },
  {
   "cell_type": "code",
   "execution_count": 30,
   "id": "71df7a65-e08f-4566-a3d9-04975e528fd1",
   "metadata": {},
   "outputs": [
    {
     "name": "stdout",
     "output_type": "stream",
     "text": [
      "[[ 30  70 110]\n",
      " [ 70 174 278]\n",
      " [110 278 446]]\n"
     ]
    }
   ],
   "source": [
    "#2] Matrix multiplication\n",
    "import numpy as np\n",
    "\n",
    "a = np.array([[1, 2, 3, 4], \n",
    "              [5, 6, 7, 8],\n",
    "              [9, 10, 11, 12]])\n",
    "\n",
    "b = np.array([[1, 2, 3, 4],\n",
    "              [5, 6, 7, 8],\n",
    "              [9, 10, 11, 12]])\n",
    "\n",
    "# Transpose the matrix b\n",
    "b_T = b.T\n",
    "\n",
    "# Multiply the matrix a (3x4) with the transposed matrix b_T (4x3)\n",
    "C = np.dot(a, b_T)\n",
    "# Alternatively, you can use the @ operator\n",
    "C = a @ b_T\n",
    "\n",
    "print(C)"
   ]
  },
  {
   "cell_type": "code",
   "execution_count": 22,
   "id": "6ffba951-79b3-4628-aa10-cd69f2f9b471",
   "metadata": {},
   "outputs": [
    {
     "data": {
      "text/plain": [
       "array([[ 2,  4,  6,  8],\n",
       "       [10, 12, 14, 16],\n",
       "       [18, 20, 22, 24]])"
      ]
     },
     "execution_count": 22,
     "metadata": {},
     "output_type": "execute_result"
    }
   ],
   "source": [
    "#3] Add both the matricx\n",
    "\n",
    "arr6 + arr7"
   ]
  },
  {
   "cell_type": "code",
   "execution_count": 23,
   "id": "b4038089-5673-4b0c-919f-eae52ed075ac",
   "metadata": {},
   "outputs": [
    {
     "data": {
      "text/plain": [
       "array([[0, 0, 0, 0],\n",
       "       [0, 0, 0, 0],\n",
       "       [0, 0, 0, 0]])"
      ]
     },
     "execution_count": 23,
     "metadata": {},
     "output_type": "execute_result"
    }
   ],
   "source": [
    "#4] Subtract matrix B from A\n",
    "\n",
    "arr7 - arr6"
   ]
  },
  {
   "cell_type": "code",
   "execution_count": 24,
   "id": "dc429999-82f3-4421-8570-dcde3219754d",
   "metadata": {},
   "outputs": [
    {
     "data": {
      "text/plain": [
       "array([[1., 1., 1., 1.],\n",
       "       [1., 1., 1., 1.],\n",
       "       [1., 1., 1., 1.]])"
      ]
     },
     "execution_count": 24,
     "metadata": {},
     "output_type": "execute_result"
    }
   ],
   "source": [
    "#5] Divide Matrix B by A\n",
    "\n",
    "arr7/arr6"
   ]
  },
  {
   "cell_type": "raw",
   "id": "dadb1fc7-bb51-4416-908c-bb4fecc28fb9",
   "metadata": {},
   "source": [
    "12. Which function in Numpy can be used to swap the byte order of an array?"
   ]
  },
  {
   "cell_type": "code",
   "execution_count": null,
   "id": "18478249-e52a-415c-b473-568198d98e3a",
   "metadata": {},
   "outputs": [],
   "source": [
    "import numpy as np\n",
    "\n",
    "# Define a NumPy array with a particular byte order\n",
    "a = np.array([1, 256, 65536], dtype=np.int32)\n",
    "\n",
    "# Print the original array\n",
    "print(\"Original array:\", a)\n",
    "\n",
    "# Swap the byte order of the array\n",
    "swapped_array = a.byteswap()\n",
    "\n",
    "# Print the array with byte order swapped\n",
    "print(\"Array with swapped byte order:\", swapped_array)"
   ]
  },
  {
   "cell_type": "raw",
   "id": "81c982f4-ba87-4081-8cf1-a9ff3411fee4",
   "metadata": {},
   "source": [
    "13.  What is the significance of the np.linalg.inv function?"
   ]
  },
  {
   "cell_type": "raw",
   "id": "bbb32c48-814d-4f04-93c3-249592cebbd0",
   "metadata": {},
   "source": [
    "The np.linalg.inv function in NumPy computes the inverse of a square matrix.\n",
    "This function is crucial for solving linear equations and executing matrix operations\n",
    "that require an inverse. To compute the inverse, the matrix must be square and non-singular, \n",
    "meaning it must have a non-zero determinant."
   ]
  },
  {
   "cell_type": "raw",
   "id": "08bc7236-1759-4ac6-a696-a58984f238dd",
   "metadata": {},
   "source": [
    "14. What does the np.reshape function do, and how is it used?"
   ]
  },
  {
   "cell_type": "raw",
   "id": "a21c202e-73e0-4be1-b406-97c430668548",
   "metadata": {},
   "source": [
    "The np.reshape function in NumPy modifies the shape of an array\n",
    "while keeping its data intact. It rearranges the array into a specified shape, \n",
    "provided that the total number of elements remains the same. For instance, \n",
    "you can transform a 1D array with 12 elements into a 2D array with 3 rows and 4 columns using np.reshape(array, (3, 4))."
   ]
  },
  {
   "cell_type": "raw",
   "id": "8ee19e38-9c81-47ba-b34f-791c983395e1",
   "metadata": {},
   "source": [
    "15. What is broadcasting in Numpy?"
   ]
  },
  {
   "cell_type": "raw",
   "id": "b95b6f09-3284-4cbb-9c31-78f5befafaed",
   "metadata": {},
   "source": [
    "Broadcasting in NumPy is a feature that enables the library to \n",
    "perform operations on arrays of different shapes by automatically \n",
    "expanding the smaller array to fit the dimensions of the larger one.\n",
    "This facilitates efficient element-wise operations without the need for manual adjustments to array shapes."
   ]
  }
 ],
 "metadata": {
  "kernelspec": {
   "display_name": "Python 3 (ipykernel)",
   "language": "python",
   "name": "python3"
  },
  "language_info": {
   "codemirror_mode": {
    "name": "ipython",
    "version": 3
   },
   "file_extension": ".py",
   "mimetype": "text/x-python",
   "name": "python",
   "nbconvert_exporter": "python",
   "pygments_lexer": "ipython3",
   "version": "3.10.8"
  }
 },
 "nbformat": 4,
 "nbformat_minor": 5
}
