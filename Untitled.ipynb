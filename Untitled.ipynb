{
 "cells": [
  {
   "cell_type": "raw",
   "id": "890f091e-27d5-4526-994b-d650da543949",
   "metadata": {},
   "source": [
    "git remote add origin \"https://#pranit14#github.com/Pranit07D/Python_assignments.git\""
   ]
  }
 ],
 "metadata": {
  "kernelspec": {
   "display_name": "Python 3 (ipykernel)",
   "language": "python",
   "name": "python3"
  },
  "language_info": {
   "codemirror_mode": {
    "name": "ipython",
    "version": 3
   },
   "file_extension": ".py",
   "mimetype": "text/x-python",
   "name": "python",
   "nbconvert_exporter": "python",
   "pygments_lexer": "ipython3",
   "version": "3.10.8"
  }
 },
 "nbformat": 4,
 "nbformat_minor": 5
}
