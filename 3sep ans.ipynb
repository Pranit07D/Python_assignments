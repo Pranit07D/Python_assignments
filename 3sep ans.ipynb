{
 "cells": [
  {
   "cell_type": "code",
   "execution_count": 1,
   "id": "b8384e16-6cb2-42f9-9e54-a84afd00a5c0",
   "metadata": {},
   "outputs": [],
   "source": [
    "#1. Write a Python program to print the numbers from 1 to 10 using a `for` loop"
   ]
  },
  {
   "cell_type": "code",
   "execution_count": 3,
   "id": "3339819a-71e3-4b10-99ba-f7fa12e341a6",
   "metadata": {},
   "outputs": [
    {
     "name": "stdout",
     "output_type": "stream",
     "text": [
      "1\n",
      "2\n",
      "3\n",
      "4\n",
      "5\n",
      "6\n",
      "7\n",
      "8\n",
      "9\n",
      "10\n"
     ]
    }
   ],
   "source": [
    "for i in range(1,11):\n",
    "    print(i)"
   ]
  },
  {
   "cell_type": "code",
   "execution_count": 11,
   "id": "9a02008b-c441-47f8-a84b-d12a6ceb7c04",
   "metadata": {},
   "outputs": [
    {
     "name": "stdout",
     "output_type": "stream",
     "text": [
      "Sum of all elements in given list:  64\n"
     ]
    }
   ],
   "source": [
    "#2. Create a program that calculates the sum of all numbers in a list using a `for` loop.\n",
    "total = 0\n",
    "list1 = [14, 5, 18, 5, 22]\n",
    " \n",
    "# Iterate each element in list\n",
    "# and add them in variable total\n",
    "for ele in range(0, len(list1)):\n",
    "    total = total + list1[ele]\n",
    " \n",
    "# printing total value\n",
    "print(\"Sum of all elements in given list: \", total)\n",
    "\n"
   ]
  },
  {
   "cell_type": "code",
   "execution_count": 16,
   "id": "19dbb1be-368c-4947-8b16-2c5598285b9f",
   "metadata": {},
   "outputs": [
    {
     "ename": "TypeError",
     "evalue": "'str' object is not callable",
     "output_type": "error",
     "traceback": [
      "\u001b[0;31m---------------------------------------------------------------------------\u001b[0m",
      "\u001b[0;31mTypeError\u001b[0m                                 Traceback (most recent call last)",
      "Cell \u001b[0;32mIn[16], line 5\u001b[0m\n\u001b[1;32m      1\u001b[0m \u001b[38;5;66;03m#3. Write a program to print the characters of a string in reverse order using a `for` loop.\u001b[39;00m\n\u001b[1;32m      3\u001b[0m string \u001b[38;5;241m=\u001b[39m \u001b[38;5;124m\"\u001b[39m\u001b[38;5;124mpranit\u001b[39m\u001b[38;5;124m\"\u001b[39m\n\u001b[0;32m----> 5\u001b[0m \u001b[38;5;28;01mfor\u001b[39;00m ele \u001b[38;5;129;01min\u001b[39;00m \u001b[43mstring\u001b[49m\u001b[43m(\u001b[49m\u001b[38;5;241;43m0\u001b[39;49m\u001b[43m,\u001b[49m\u001b[43m \u001b[49m\u001b[38;5;28;43mlen\u001b[39;49m\u001b[43m(\u001b[49m\u001b[43mstring\u001b[49m\u001b[43m)\u001b[49m\u001b[43m)\u001b[49m:\n\u001b[1;32m      6\u001b[0m     \u001b[38;5;28mprint\u001b[39m(reverse(string))\n",
      "\u001b[0;31mTypeError\u001b[0m: 'str' object is not callable"
     ]
    }
   ],
   "source": [
    "#3. Write a program to print the characters of a string in reverse order using a `for` loop.\n",
    "\n",
    "def reverse_string(str):  \n",
    "    str1 = \"\"   # Declaring empty string \n",
    "    for i in str:  \n",
    "        str1 = i + str1  \n",
    "    return str1    # It will return the reverse string to the call function  \n",
    "     \n",
    "str = \"pranit\"    # given String       \n",
    "print(\"string: \",str)  \n",
    "print(\"reverse string\",reverse_string(str)) # Function calling  "
   ]
  },
  {
   "cell_type": "code",
   "execution_count": 19,
   "id": "ced6ee03-bb74-440b-87aa-18d6305d6dfb",
   "metadata": {},
   "outputs": [
    {
     "name": "stdin",
     "output_type": "stream",
     "text": [
      "Enter a number:  7\n"
     ]
    },
    {
     "name": "stdout",
     "output_type": "stream",
     "text": [
      "Factorial of the given number is:  5040\n"
     ]
    }
   ],
   "source": [
    "#4. Develop a program that finds the factorial of a given number using a `for` loop.\n",
    "\n",
    "n = int (input (\"Enter number: \"))\n",
    "factorial = 1\n",
    "if n >= 1:\n",
    "    for i in range (1, n+1):\n",
    "        factorial=factorial *i\n",
    "print(\"Factorial of the given number is: \", factorial)"
   ]
  },
  {
   "cell_type": "code",
   "execution_count": 21,
   "id": "2ddc6e9e-4202-413c-9347-bf6942330f3c",
   "metadata": {},
   "outputs": [
    {
     "name": "stdin",
     "output_type": "stream",
     "text": [
      "Enter the number:  4\n"
     ]
    },
    {
     "name": "stdout",
     "output_type": "stream",
     "text": [
      "4\n",
      "8\n",
      "12\n",
      "16\n",
      "20\n",
      "24\n",
      "28\n",
      "32\n",
      "36\n",
      "40\n"
     ]
    }
   ],
   "source": [
    "#5. Create a program to print the multiplication table of a given number using a `for` loop.\n",
    "\n",
    "n = int (input (\"Enter the number: \"))\n",
    "\n",
    "if n >= 0:\n",
    "    for i in range (1, 11):\n",
    "        a = i * n\n",
    "        print(a)\n",
    "        "
   ]
  },
  {
   "cell_type": "code",
   "execution_count": 28,
   "id": "03ca7637-d98e-4f8e-b371-ecac7b4f3f18",
   "metadata": {},
   "outputs": [
    {
     "name": "stdout",
     "output_type": "stream",
     "text": [
      "number is even:  3\n",
      "number is odd:  5\n"
     ]
    }
   ],
   "source": [
    "#6. Write a program that counts the number of even and odd numbers in a list using a `for` loop.\n",
    "a = [1,2,3,4,5,7,8,9]\n",
    "evens, odds = 0, 0\n",
    "for num in a:\n",
    "    if num % 2 == 0:\n",
    "        evens += 1\n",
    "    else:\n",
    "        odds += 1\n",
    "print(\"number is even: \", evens)\n",
    "print(\"number is odd: \", odds)"
   ]
  },
  {
   "cell_type": "code",
   "execution_count": 42,
   "id": "dbd6d755-b1d8-4f35-bf45-87de15675b2e",
   "metadata": {},
   "outputs": [
    {
     "name": "stdout",
     "output_type": "stream",
     "text": [
      "1\n",
      "4\n",
      "9\n",
      "16\n",
      "25\n"
     ]
    }
   ],
   "source": [
    "#7. Develop a program that prints the squares of numbers from 1 to 5 using a `for` loop.\n",
    "\n",
    "for i in range (1, 6):\n",
    "    print(i*i)\n",
    "    "
   ]
  },
  {
   "cell_type": "code",
   "execution_count": 44,
   "id": "b1d02c68-b804-46d0-9b46-9ad74c7fc396",
   "metadata": {},
   "outputs": [
    {
     "name": "stdout",
     "output_type": "stream",
     "text": [
      "6\n"
     ]
    }
   ],
   "source": [
    "#8. Create a program to find the length of a string without using the `len()` function.\n",
    "\n",
    "s = \"pranit\"\n",
    "\n",
    "count = 0\n",
    "\n",
    "for i in s:\n",
    " \n",
    "    count+=1\n",
    "print(count)\n"
   ]
  },
  {
   "cell_type": "code",
   "execution_count": 54,
   "id": "826d46f0-5d80-4f0b-8204-9ee9913af920",
   "metadata": {},
   "outputs": [
    {
     "name": "stdin",
     "output_type": "stream",
     "text": [
      "Enter the number of elements to be inserted:  4\n",
      "Enter element:  4\n",
      "Enter element:  4\n",
      "Enter element:  4\n",
      "Enter element:  4\n"
     ]
    },
    {
     "name": "stdout",
     "output_type": "stream",
     "text": [
      "Average of elements in the list 4.0\n"
     ]
    }
   ],
   "source": [
    "#9. Write a program that calculates the average of a list of numbers using a `for` loop.\n",
    "\n",
    "n=int(input(\"Enter the number of elements to be inserted: \"))\n",
    "a=[]\n",
    "for i in range(0,n):\n",
    "    elem=int(input(\"Enter element: \"))\n",
    "    a.append(elem)\n",
    "avg=sum(a)/n\n",
    "print(\"Average of elements in the list\",round(avg,2))"
   ]
  },
  {
   "cell_type": "code",
   "execution_count": 5,
   "id": "9ec4c9cc-dbf7-40fe-85f1-0c57f7da36c6",
   "metadata": {},
   "outputs": [
    {
     "name": "stdin",
     "output_type": "stream",
     "text": [
      "enter the list Fibonacci numbers:  8\n"
     ]
    },
    {
     "name": "stdout",
     "output_type": "stream",
     "text": [
      "0\n",
      "1\n",
      "1\n",
      "2\n",
      "3\n",
      "5\n",
      "8\n",
      "13\n",
      "21\n"
     ]
    }
   ],
   "source": [
    "#10. Develop a program that prints the first `n` Fibonacci numbers using a `for` loop.\n",
    "\n",
    "n1 = 0\n",
    "n2 = 1\n",
    "n = int(input(\"enter the list Fibonacci numbers: \"))\n",
    "print(n1)\n",
    "print(n2)\n",
    "for x in range(1,n):\n",
    "    n3 = n1 + n2\n",
    "    print(n3)\n",
    "    n1,n2=n2,n3\n"
   ]
  },
  {
   "cell_type": "code",
   "execution_count": 1,
   "id": "122b0851-eaa4-423a-9cae-43270446adbb",
   "metadata": {},
   "outputs": [
    {
     "name": "stdout",
     "output_type": "stream",
     "text": [
      "2 1 "
     ]
    }
   ],
   "source": [
    "#11. Write a program to check if a given list contains any duplicates using a `for` loop.\n",
    "\n",
    "l = [1,2,3,6,5,2,1]\n",
    "l1=[]\n",
    "for i in l:\n",
    "    if i not in l1:\n",
    "        l1.append(i)\n",
    "    else:\n",
    "        print(i,end=' ')\n",
    "        \n",
    "        ###Explanation\n",
    "#The list (l) with duplicate elements is taken to find the duplicates.\n",
    "\n",
    "#An empty list (l1) is taken to store the values of non-duplicate elements from the given list.\n",
    "\n",
    "#The for loop is used to access the values in the list (l), and the if condition is used to check if the elements in the given list (l) are present in the empty list (l1).\n",
    "\n",
    "#If the elements are not present, those values are appended to the list (l1); else, they are printed.\n",
    "\n",
    "#Here, the list (l1) has no duplicates. The values printed are the duplicates from list (l).\n",
    "\n",
    "\n"
   ]
  },
  {
   "cell_type": "code",
   "execution_count": 2,
   "id": "1b2e8c13-5ed8-4999-92cb-e1048f32619a",
   "metadata": {},
   "outputs": [
    {
     "name": "stdin",
     "output_type": "stream",
     "text": [
      "enter the lowest range value:  2\n",
      "enter the upper range value:  8\n"
     ]
    },
    {
     "name": "stdout",
     "output_type": "stream",
     "text": [
      "The prime Numbers in the range: \n",
      "2\n",
      "3\n",
      "5\n",
      "7\n"
     ]
    }
   ],
   "source": [
    "#12. Create a program that prints the prime numbers in a given range using a `for` loop\n",
    "a = int(input (\"enter the lowest range value: \"))  \n",
    "b = int(input (\"enter the upper range value: \"))  \n",
    "  \n",
    "print (\"The prime Numbers in the range: \")  \n",
    "for number in range (a, b + 1):  \n",
    "    if number > 1:  \n",
    "        for i in range (2, number):  \n",
    "            if (number % i) == 0:  \n",
    "                break  \n",
    "        else:  \n",
    "            print (number)  "
   ]
  },
  {
   "cell_type": "code",
   "execution_count": 6,
   "id": "73eeb619-d115-46bb-8f94-681bb34196ee",
   "metadata": {},
   "outputs": [
    {
     "name": "stdin",
     "output_type": "stream",
     "text": [
      "enter string pranit\n"
     ]
    },
    {
     "name": "stdout",
     "output_type": "stream",
     "text": [
      "number of vowels are:\n",
      "2\n"
     ]
    }
   ],
   "source": [
    "#13. Develop a program that counts the number of vowels in a string using a `for` loop.\n",
    "\n",
    "string = input(str(\"enter string\"))\n",
    "vowel = 0\n",
    "for i in string:\n",
    "    if(i=='a' or i=='e' or i=='i' or i=='o' or i=='u' or i=='A' or i=='E' or i=='I' or i=='O' or i=='U'):\n",
    "        vowel=vowel+1\n",
    "print(\"number of vowels are:\")\n",
    "print(vowel)\n",
    "        "
   ]
  },
  {
   "cell_type": "code",
   "execution_count": null,
   "id": "2c4b5fb7-6f4f-418b-bb33-2b5a545ca62e",
   "metadata": {},
   "outputs": [],
   "source": [
    "#14. Write a program to find the maximum element in a 2D list using a nested `for` loop\n",
    "\n"
   ]
  },
  {
   "cell_type": "code",
   "execution_count": 10,
   "id": "3608363e-0fde-47ad-a0f0-1c067e585303",
   "metadata": {},
   "outputs": [
    {
     "name": "stdout",
     "output_type": "stream",
     "text": [
      "original list\n",
      "[10, 20, 40, 10, 80, 110, 10, 150]\n",
      "list after removing elements\n",
      "[20, 40, 80, 110, 150]\n"
     ]
    }
   ],
   "source": [
    "#15. Create a program that removes all occurrences of a specific element from a list using a `for` loop.\n",
    "\n",
    "# list with integer elements\n",
    "l = [10, 20, 40, 10, 80, 110, 10, 150]\n",
    "# number to be removed (n)\n",
    "n = 10\n",
    "\n",
    "# print original list \n",
    "print (\"original list\")\n",
    "print (l)\n",
    "\n",
    "# loop to traverse each element in list\n",
    "# and, remove elements \n",
    "# which are equals to n\n",
    "for x in l:\n",
    "    if x == n:\n",
    "        l.remove(x)\n",
    "\n",
    "# print list after removing given element\n",
    "print (\"list after removing elements\")\n",
    "print (l)"
   ]
  },
  {
   "cell_type": "code",
   "execution_count": 31,
   "id": "1293cb59-cfb8-4f33-82e0-fa993242f609",
   "metadata": {},
   "outputs": [
    {
     "name": "stdout",
     "output_type": "stream",
     "text": [
      "Multiplication table from 1 to 5\n",
      "1\n",
      "2\n",
      "3\n",
      "4\n",
      "5\n",
      "6\n",
      "7\n",
      "8\n",
      "9\n",
      "10\n",
      "2\n",
      "4\n",
      "6\n",
      "8\n",
      "10\n",
      "12\n",
      "14\n",
      "16\n",
      "18\n",
      "20\n",
      "3\n",
      "6\n",
      "9\n",
      "12\n",
      "15\n",
      "18\n",
      "21\n",
      "24\n",
      "27\n",
      "30\n",
      "4\n",
      "8\n",
      "12\n",
      "16\n",
      "20\n",
      "24\n",
      "28\n",
      "32\n",
      "36\n",
      "40\n",
      "5\n",
      "10\n",
      "15\n",
      "20\n",
      "25\n",
      "30\n",
      "35\n",
      "40\n",
      "45\n",
      "50\n"
     ]
    }
   ],
   "source": [
    "#16. Develop a program that generates a multiplication table for numbers from 1 to 5 using a nested `for` loop\n",
    "print(\"Multiplication table from 1 to 5\")\n",
    "for i in range (1, 6):\n",
    "    for j in range (1, 11):\n",
    "        a = i*j\n",
    "        print(a)"
   ]
  },
  {
   "cell_type": "code",
   "execution_count": 70,
   "id": "594bc6bb-a646-45a9-a4ec-9a116e59adab",
   "metadata": {},
   "outputs": [
    {
     "ename": "IndentationError",
     "evalue": "expected an indented block after 'for' statement on line 4 (3980578528.py, line 5)",
     "output_type": "error",
     "traceback": [
      "\u001b[0;36m  Cell \u001b[0;32mIn[70], line 5\u001b[0;36m\u001b[0m\n\u001b[0;31m    i =(Temperature-32)*5/9\u001b[0m\n\u001b[0m    ^\u001b[0m\n\u001b[0;31mIndentationError\u001b[0m\u001b[0;31m:\u001b[0m expected an indented block after 'for' statement on line 4\n"
     ]
    }
   ],
   "source": [
    "#17. Write a program that converts a list of Fahrenheit temperatures to Celsius using a `for` loop.\n",
    "Temperature = int(input(\"enter the temperature fahrenheit\"))\n",
    "\n",
    "for i in temperature:\n",
    "    i =(Temperature-32)*5/9\n",
    "print(i)"
   ]
  },
  {
   "cell_type": "code",
   "execution_count": 71,
   "id": "bfb2f569-9df0-44af-bf55-8856a148133c",
   "metadata": {},
   "outputs": [
    {
     "name": "stdin",
     "output_type": "stream",
     "text": [
      "Enter temperature in fahrenheit:  456\n"
     ]
    },
    {
     "name": "stdout",
     "output_type": "stream",
     "text": [
      "235.55555555555554\n"
     ]
    }
   ],
   "source": [
    "fahrenheit = float(input(\"Enter temperature in fahrenheit: \"))\n",
    " \n",
    "celsius = (fahrenheit - 32)/1.8\n",
    " \n",
    "print(celsius)"
   ]
  },
  {
   "cell_type": "code",
   "execution_count": 77,
   "id": "e4776076-0175-43a2-a844-20891b26e358",
   "metadata": {},
   "outputs": [
    {
     "ename": "IndentationError",
     "evalue": "expected an indented block after 'for' statement on line 3 (2575747776.py, line 4)",
     "output_type": "error",
     "traceback": [
      "\u001b[0;36m  Cell \u001b[0;32mIn[77], line 4\u001b[0;36m\u001b[0m\n\u001b[0;31m    i =(temperature-32)*5/9\u001b[0m\n\u001b[0m    ^\u001b[0m\n\u001b[0;31mIndentationError\u001b[0m\u001b[0;31m:\u001b[0m expected an indented block after 'for' statement on line 3\n"
     ]
    }
   ],
   "source": [
    "temperature = float(input(\"enter the temperature fahrenheit\"))\n",
    "\n",
    "for i in temperature:\n",
    "i =(temperature-32)*5/9\n",
    "print(i)"
   ]
  },
  {
   "cell_type": "code",
   "execution_count": 12,
   "id": "55efe373-a831-4fc6-97b8-7934dc5be839",
   "metadata": {},
   "outputs": [],
   "source": [
    "#18. Create a program to print the common elements from two lists using a `for` loop.\n",
    "l1 = ['q','a','s','d']\n",
    "l2 = ['w','s','l','a']\n",
    "for l1 in l2:\n",
    "   if l1 == l2:\n",
    "    print(l1+1)\n",
    "\n",
    "    "
   ]
  },
  {
   "cell_type": "code",
   "execution_count": 38,
   "id": "331f9a79-933f-4337-b2c4-94b05622b651",
   "metadata": {},
   "outputs": [
    {
     "name": "stdout",
     "output_type": "stream",
     "text": [
      "* \n",
      "* * \n",
      "* * * \n",
      "* * * * \n",
      "* * * * * \n",
      "* * * * * * \n",
      "* * * * * * * \n"
     ]
    }
   ],
   "source": [
    "#19. Develop a program that prints the pattern of right-angled triangles using a `for` loop. Use ‘*’ to draw the pattern\n",
    "\n",
    "for i in range (7):\n",
    "    for a in range (i+1):\n",
    "       print(\"*\", end= ' ')\n",
    "    print()"
   ]
  },
  {
   "cell_type": "code",
   "execution_count": 41,
   "id": "6c66032b-9d7c-4ab3-92f4-9919b903901f",
   "metadata": {},
   "outputs": [
    {
     "name": "stdout",
     "output_type": "stream",
     "text": [
      "GCD of 75 and 100 is: 25\n"
     ]
    }
   ],
   "source": [
    "#20. Write a program to find the greatest common divisor (GCD) of two numbers using a `for` loop\n",
    "\n",
    "x = 75\n",
    "y = 100\n",
    "if x > y:\n",
    "  x, y = y, x\n",
    "for i in range(1,x+1):\n",
    "  if x%i == 0 and y%i == 0:\n",
    "    gcd = i\n",
    "\n",
    "print(\"GCD of\", x, \"and\", y, \"is:\", gcd)"
   ]
  },
  {
   "cell_type": "code",
   "execution_count": 6,
   "id": "938d774c-a25c-4b99-82ce-e34232298273",
   "metadata": {},
   "outputs": [
    {
     "ename": "TypeError",
     "evalue": "'int' object is not iterable",
     "output_type": "error",
     "traceback": [
      "\u001b[0;31m---------------------------------------------------------------------------\u001b[0m",
      "\u001b[0;31mTypeError\u001b[0m                                 Traceback (most recent call last)",
      "Cell \u001b[0;32mIn[6], line 4\u001b[0m\n\u001b[1;32m      1\u001b[0m \u001b[38;5;66;03m#21. Create a program that calculates the sum of the digits of numbers in a list using a list comprehension.\u001b[39;00m\n\u001b[1;32m      3\u001b[0m a\u001b[38;5;241m=\u001b[39m [\u001b[38;5;241m12\u001b[39m,\u001b[38;5;241m34\u001b[39m,\u001b[38;5;241m45\u001b[39m,\u001b[38;5;241m67\u001b[39m,\u001b[38;5;241m78\u001b[39m]\n\u001b[0;32m----> 4\u001b[0m [ a[\u001b[38;5;241m0\u001b[39m] \u001b[38;5;241m+\u001b[39m a[\u001b[38;5;241m1\u001b[39m] \u001b[38;5;28;01mfor\u001b[39;00m p \u001b[38;5;129;01min\u001b[39;00m a \u001b[38;5;28;01mfor\u001b[39;00m i \u001b[38;5;129;01min\u001b[39;00m (p)]\n",
      "Cell \u001b[0;32mIn[6], line 4\u001b[0m, in \u001b[0;36m<listcomp>\u001b[0;34m(.0)\u001b[0m\n\u001b[1;32m      1\u001b[0m \u001b[38;5;66;03m#21. Create a program that calculates the sum of the digits of numbers in a list using a list comprehension.\u001b[39;00m\n\u001b[1;32m      3\u001b[0m a\u001b[38;5;241m=\u001b[39m [\u001b[38;5;241m12\u001b[39m,\u001b[38;5;241m34\u001b[39m,\u001b[38;5;241m45\u001b[39m,\u001b[38;5;241m67\u001b[39m,\u001b[38;5;241m78\u001b[39m]\n\u001b[0;32m----> 4\u001b[0m [ a[\u001b[38;5;241m0\u001b[39m] \u001b[38;5;241m+\u001b[39m a[\u001b[38;5;241m1\u001b[39m] \u001b[38;5;28;01mfor\u001b[39;00m p \u001b[38;5;129;01min\u001b[39;00m a \u001b[38;5;28;01mfor\u001b[39;00m i \u001b[38;5;129;01min\u001b[39;00m (p)]\n",
      "\u001b[0;31mTypeError\u001b[0m: 'int' object is not iterable"
     ]
    }
   ],
   "source": [
    "#21. Create a program that calculates the sum of the digits of numbers in a list using a list comprehension.\n",
    "\n",
    "my_list = [11, 23, 41, 62, 89, 0, 10]\n",
    "print(\"The list is : \")\n",
    "print(my_list)\n",
    "my_result = []\n",
    "for elem in my_list:\n",
    "   sum_val = 0\n",
    "   for digit in str(elem):\n",
    "      sum_val += int(digit)\n",
    "   my_result.append(sum_val)\n",
    "print (\"The result after adding the digits is : \" )\n",
    "print(my_result)"
   ]
  },
  {
   "cell_type": "code",
   "execution_count": 7,
   "id": "6b6b6bf8-302a-405e-b8b2-fd6c6e446120",
   "metadata": {},
   "outputs": [
    {
     "name": "stdout",
     "output_type": "stream",
     "text": [
      "The list is : \n",
      "[11, 23, 41, 62, 89, 0, 10]\n",
      "The result after adding the digits is : \n",
      "[2, 5, 5, 8, 17, 0, 1]\n"
     ]
    }
   ],
   "source": [
    "my_list = [11, 23, 41, 62, 89, 0, 10]\n",
    "print(\"The list is : \")\n",
    "print(my_list)\n",
    "my_result = []\n",
    "for elem in my_list:\n",
    "   sum_val = 0\n",
    "   for digit in str(elem):\n",
    "      sum_val += int(digit)\n",
    "   my_result.append(sum_val)\n",
    "print (\"The result after adding the digits is : \" )\n",
    "print(my_result)"
   ]
  },
  {
   "cell_type": "code",
   "execution_count": 25,
   "id": "1c79109f-c014-4fd6-b0bf-1dffb505cd06",
   "metadata": {},
   "outputs": [
    {
     "name": "stdin",
     "output_type": "stream",
     "text": [
      "enter a number to find its prime factors:  458\n"
     ]
    },
    {
     "name": "stdout",
     "output_type": "stream",
     "text": [
      "prime factors of 458: [2, 229]\n"
     ]
    }
   ],
   "source": [
    "#22. Write a program to find the prime factors of a given number using a `for` loop and list comprehension.\n",
    "\n",
    "def prime_factors(n):\n",
    "    factors= []\n",
    "    divisor = 2\n",
    "    \n",
    "    while n > 1:\n",
    "        for i in range(divisor, n+1):\n",
    "            if n % i == 0:\n",
    "                factors.append(i)\n",
    "                n //= i\n",
    "                break\n",
    "                \n",
    "    return factors\n",
    "if __name__ == \"__main__\":\n",
    "    num = int(input(\"enter a number to find its prime factors: \"))\n",
    "    print(f\"prime factors of {num}: {prime_factors(num)}\")\n"
   ]
  },
  {
   "cell_type": "code",
   "execution_count": 29,
   "id": "566d6632-6d59-466e-a293-c143c7803af2",
   "metadata": {},
   "outputs": [
    {
     "name": "stdin",
     "output_type": "stream",
     "text": [
      "enter number 100\n"
     ]
    },
    {
     "data": {
      "text/plain": [
       "[2, 4, 5, 10, 20, 25, 50, 100]"
      ]
     },
     "execution_count": 29,
     "metadata": {},
     "output_type": "execute_result"
    }
   ],
   "source": [
    "n = int(input(\"enter number\"))\n",
    "[i for i in range(2, n + 1) if n % i == 0]  \n",
    "\n",
    "    "
   ]
  },
  {
   "cell_type": "code",
   "execution_count": 33,
   "id": "b4f13caa-3c5d-4255-972d-f198f121c700",
   "metadata": {},
   "outputs": [
    {
     "name": "stdout",
     "output_type": "stream",
     "text": [
      "[1, 2, 3, 4, 6, 8, 9]\n"
     ]
    }
   ],
   "source": [
    "#23. Develop a program that extracts unique elements from a list and stores them in a new list using a list comprehension.\n",
    "\n",
    "a = [1,2,1,3,4,1,4,6,8,9] \n",
    "d = list(set([i for i in a]))\n",
    "print(d)"
   ]
  },
  {
   "cell_type": "code",
   "execution_count": 34,
   "id": "7586c969-1d43-47f8-8383-0c13f3256510",
   "metadata": {},
   "outputs": [
    {
     "name": "stdin",
     "output_type": "stream",
     "text": [
      "Enter the limit:  895\n"
     ]
    },
    {
     "name": "stdout",
     "output_type": "stream",
     "text": [
      "Palindromic numbers up to 895 are: [0, 1, 2, 3, 4, 5, 6, 7, 8, 9, 11, 22, 33, 44, 55, 66, 77, 88, 99, 101, 111, 121, 131, 141, 151, 161, 171, 181, 191, 202, 212, 222, 232, 242, 252, 262, 272, 282, 292, 303, 313, 323, 333, 343, 353, 363, 373, 383, 393, 404, 414, 424, 434, 444, 454, 464, 474, 484, 494, 505, 515, 525, 535, 545, 555, 565, 575, 585, 595, 606, 616, 626, 636, 646, 656, 666, 676, 686, 696, 707, 717, 727, 737, 747, 757, 767, 777, 787, 797, 808, 818, 828, 838, 848, 858, 868, 878, 888]\n"
     ]
    }
   ],
   "source": [
    "#24. Create a program that generates a list of all palindromic numbers up to a specified limit using a list comprehension.\n",
    "\n",
    "def is_palindrome(n):\n",
    "    return str(n) == str(n)[::-1]\n",
    "\n",
    "# Generate list of palindromic numbers using list comprehension\n",
    "def generate_palindromic_numbers(limit):\n",
    "    return [num for num in range(limit + 1) if is_palindrome(num)]\n",
    "\n",
    "# Main function to demonstrate\n",
    "if __name__ == \"__main__\":\n",
    "    # Specify the limit\n",
    "    limit = int(input(\"Enter the limit: \"))\n",
    "\n",
    "    # Generate and print palindromic numbers up to the limit\n",
    "    palindromic_numbers = generate_palindromic_numbers(limit)\n",
    "    print(\"Palindromic numbers up to\", limit, \"are:\", palindromic_numbers)"
   ]
  },
  {
   "cell_type": "code",
   "execution_count": null,
   "id": "67adb709-7129-4738-aa7e-4621e27b0d1f",
   "metadata": {},
   "outputs": [],
   "source": [
    "#"
   ]
  }
 ],
 "metadata": {
  "kernelspec": {
   "display_name": "Python 3 (ipykernel)",
   "language": "python",
   "name": "python3"
  },
  "language_info": {
   "codemirror_mode": {
    "name": "ipython",
    "version": 3
   },
   "file_extension": ".py",
   "mimetype": "text/x-python",
   "name": "python",
   "nbconvert_exporter": "python",
   "pygments_lexer": "ipython3",
   "version": "3.10.8"
  }
 },
 "nbformat": 4,
 "nbformat_minor": 5
}
